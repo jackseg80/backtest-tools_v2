{
 "cells": [
  {
   "cell_type": "markdown",
   "metadata": {},
   "source": [
    "# Candlesticks patterns and statistical analysis\n",
    "# Loading and preparing data"
   ]
  },
  {
   "cell_type": "code",
   "execution_count": 2,
   "metadata": {
    "scrolled": true
   },
   "outputs": [
    {
     "data": {
      "text/html": [
       "<div>\n",
       "<style scoped>\n",
       "    .dataframe tbody tr th:only-of-type {\n",
       "        vertical-align: middle;\n",
       "    }\n",
       "\n",
       "    .dataframe tbody tr th {\n",
       "        vertical-align: top;\n",
       "    }\n",
       "\n",
       "    .dataframe thead th {\n",
       "        text-align: right;\n",
       "    }\n",
       "</style>\n",
       "<table border=\"1\" class=\"dataframe\">\n",
       "  <thead>\n",
       "    <tr style=\"text-align: right;\">\n",
       "      <th></th>\n",
       "      <th>Local time</th>\n",
       "      <th>open</th>\n",
       "      <th>high</th>\n",
       "      <th>low</th>\n",
       "      <th>close</th>\n",
       "      <th>volume</th>\n",
       "    </tr>\n",
       "  </thead>\n",
       "  <tbody>\n",
       "    <tr>\n",
       "      <th>4322</th>\n",
       "      <td>14.10.2019 00:00:00.000 GMT+0300</td>\n",
       "      <td>1.10399</td>\n",
       "      <td>1.10428</td>\n",
       "      <td>1.10129</td>\n",
       "      <td>1.10281</td>\n",
       "      <td>150329.9600</td>\n",
       "    </tr>\n",
       "    <tr>\n",
       "      <th>4323</th>\n",
       "      <td>15.10.2019 00:00:00.000 GMT+0300</td>\n",
       "      <td>1.10281</td>\n",
       "      <td>1.10463</td>\n",
       "      <td>1.09915</td>\n",
       "      <td>1.10338</td>\n",
       "      <td>225114.4925</td>\n",
       "    </tr>\n",
       "    <tr>\n",
       "      <th>4324</th>\n",
       "      <td>16.10.2019 00:00:00.000 GMT+0300</td>\n",
       "      <td>1.10331</td>\n",
       "      <td>1.10857</td>\n",
       "      <td>1.10226</td>\n",
       "      <td>1.10720</td>\n",
       "      <td>224179.4392</td>\n",
       "    </tr>\n",
       "    <tr>\n",
       "      <th>4325</th>\n",
       "      <td>17.10.2019 00:00:00.000 GMT+0300</td>\n",
       "      <td>1.10724</td>\n",
       "      <td>1.11400</td>\n",
       "      <td>1.10653</td>\n",
       "      <td>1.11254</td>\n",
       "      <td>221922.6500</td>\n",
       "    </tr>\n",
       "    <tr>\n",
       "      <th>4326</th>\n",
       "      <td>18.10.2019 00:00:00.000 GMT+0300</td>\n",
       "      <td>1.11256</td>\n",
       "      <td>1.11727</td>\n",
       "      <td>1.11149</td>\n",
       "      <td>1.11723</td>\n",
       "      <td>143073.7750</td>\n",
       "    </tr>\n",
       "  </tbody>\n",
       "</table>\n",
       "</div>"
      ],
      "text/plain": [
       "                            Local time     open     high      low    close  \\\n",
       "4322  14.10.2019 00:00:00.000 GMT+0300  1.10399  1.10428  1.10129  1.10281   \n",
       "4323  15.10.2019 00:00:00.000 GMT+0300  1.10281  1.10463  1.09915  1.10338   \n",
       "4324  16.10.2019 00:00:00.000 GMT+0300  1.10331  1.10857  1.10226  1.10720   \n",
       "4325  17.10.2019 00:00:00.000 GMT+0300  1.10724  1.11400  1.10653  1.11254   \n",
       "4326  18.10.2019 00:00:00.000 GMT+0300  1.11256  1.11727  1.11149  1.11723   \n",
       "\n",
       "           volume  \n",
       "4322  150329.9600  \n",
       "4323  225114.4925  \n",
       "4324  224179.4392  \n",
       "4325  221922.6500  \n",
       "4326  143073.7750  "
      ]
     },
     "execution_count": 2,
     "metadata": {},
     "output_type": "execute_result"
    }
   ],
   "source": [
    "import pandas as pd\n",
    "df = pd.read_csv(\"EURUSD_Candlestick_1_D_ASK_05.05.2003-19.10.2019.csv\")\n",
    "df.tail()"
   ]
  },
  {
   "cell_type": "code",
   "execution_count": 3,
   "metadata": {},
   "outputs": [
    {
     "data": {
      "text/plain": [
       "Local time    0\n",
       "open          0\n",
       "high          0\n",
       "low           0\n",
       "close         0\n",
       "volume        0\n",
       "dtype: int64"
      ]
     },
     "execution_count": 3,
     "metadata": {},
     "output_type": "execute_result"
    }
   ],
   "source": [
    "#Check if any zero volumes are to be removed\n",
    "indexZeros = df[ df['volume'] == 0 ].index\n",
    "\n",
    "df.drop(indexZeros , inplace=True)\n",
    "df.loc[(df[\"volume\"] == 0 )]\n",
    "df.isna().sum()"
   ]
  },
  {
   "cell_type": "code",
   "execution_count": 4,
   "metadata": {},
   "outputs": [
    {
     "data": {
      "text/html": [
       "<div>\n",
       "<style scoped>\n",
       "    .dataframe tbody tr th:only-of-type {\n",
       "        vertical-align: middle;\n",
       "    }\n",
       "\n",
       "    .dataframe tbody tr th {\n",
       "        vertical-align: top;\n",
       "    }\n",
       "\n",
       "    .dataframe thead th {\n",
       "        text-align: right;\n",
       "    }\n",
       "</style>\n",
       "<table border=\"1\" class=\"dataframe\">\n",
       "  <thead>\n",
       "    <tr style=\"text-align: right;\">\n",
       "      <th></th>\n",
       "      <th>Local time</th>\n",
       "      <th>open</th>\n",
       "      <th>high</th>\n",
       "      <th>low</th>\n",
       "      <th>close</th>\n",
       "      <th>volume</th>\n",
       "      <th>ATR</th>\n",
       "      <th>RSI</th>\n",
       "    </tr>\n",
       "  </thead>\n",
       "  <tbody>\n",
       "    <tr>\n",
       "      <th>14</th>\n",
       "      <td>23.05.2003 00:00:00.000 GMT+0300</td>\n",
       "      <td>1.16947</td>\n",
       "      <td>1.18373</td>\n",
       "      <td>1.16648</td>\n",
       "      <td>1.18266</td>\n",
       "      <td>1.050209e+06</td>\n",
       "      <td>0.013346</td>\n",
       "      <td>76.794368</td>\n",
       "    </tr>\n",
       "    <tr>\n",
       "      <th>15</th>\n",
       "      <td>26.05.2003 00:00:00.000 GMT+0300</td>\n",
       "      <td>1.18270</td>\n",
       "      <td>1.18754</td>\n",
       "      <td>1.17972</td>\n",
       "      <td>1.18690</td>\n",
       "      <td>1.052746e+06</td>\n",
       "      <td>0.012650</td>\n",
       "      <td>78.238516</td>\n",
       "    </tr>\n",
       "    <tr>\n",
       "      <th>16</th>\n",
       "      <td>27.05.2003 00:00:00.000 GMT+0300</td>\n",
       "      <td>1.18670</td>\n",
       "      <td>1.19300</td>\n",
       "      <td>1.18176</td>\n",
       "      <td>1.18288</td>\n",
       "      <td>1.057689e+06</td>\n",
       "      <td>0.012477</td>\n",
       "      <td>73.564081</td>\n",
       "    </tr>\n",
       "    <tr>\n",
       "      <th>17</th>\n",
       "      <td>28.05.2003 00:00:00.000 GMT+0300</td>\n",
       "      <td>1.18261</td>\n",
       "      <td>1.18453</td>\n",
       "      <td>1.17047</td>\n",
       "      <td>1.17649</td>\n",
       "      <td>1.060248e+06</td>\n",
       "      <td>0.012667</td>\n",
       "      <td>66.738430</td>\n",
       "    </tr>\n",
       "    <tr>\n",
       "      <th>18</th>\n",
       "      <td>29.05.2003 00:00:00.000 GMT+0300</td>\n",
       "      <td>1.17657</td>\n",
       "      <td>1.19008</td>\n",
       "      <td>1.16917</td>\n",
       "      <td>1.18833</td>\n",
       "      <td>1.045905e+06</td>\n",
       "      <td>0.013637</td>\n",
       "      <td>71.934617</td>\n",
       "    </tr>\n",
       "    <tr>\n",
       "      <th>...</th>\n",
       "      <td>...</td>\n",
       "      <td>...</td>\n",
       "      <td>...</td>\n",
       "      <td>...</td>\n",
       "      <td>...</td>\n",
       "      <td>...</td>\n",
       "      <td>...</td>\n",
       "      <td>...</td>\n",
       "    </tr>\n",
       "    <tr>\n",
       "      <th>4322</th>\n",
       "      <td>14.10.2019 00:00:00.000 GMT+0300</td>\n",
       "      <td>1.10399</td>\n",
       "      <td>1.10428</td>\n",
       "      <td>1.10129</td>\n",
       "      <td>1.10281</td>\n",
       "      <td>1.503300e+05</td>\n",
       "      <td>0.005444</td>\n",
       "      <td>53.542274</td>\n",
       "    </tr>\n",
       "    <tr>\n",
       "      <th>4323</th>\n",
       "      <td>15.10.2019 00:00:00.000 GMT+0300</td>\n",
       "      <td>1.10281</td>\n",
       "      <td>1.10463</td>\n",
       "      <td>1.09915</td>\n",
       "      <td>1.10338</td>\n",
       "      <td>2.251145e+05</td>\n",
       "      <td>0.005448</td>\n",
       "      <td>54.321918</td>\n",
       "    </tr>\n",
       "    <tr>\n",
       "      <th>4324</th>\n",
       "      <td>16.10.2019 00:00:00.000 GMT+0300</td>\n",
       "      <td>1.10331</td>\n",
       "      <td>1.10857</td>\n",
       "      <td>1.10226</td>\n",
       "      <td>1.10720</td>\n",
       "      <td>2.241794e+05</td>\n",
       "      <td>0.005534</td>\n",
       "      <td>59.256697</td>\n",
       "    </tr>\n",
       "    <tr>\n",
       "      <th>4325</th>\n",
       "      <td>17.10.2019 00:00:00.000 GMT+0300</td>\n",
       "      <td>1.10724</td>\n",
       "      <td>1.11400</td>\n",
       "      <td>1.10653</td>\n",
       "      <td>1.11254</td>\n",
       "      <td>2.219226e+05</td>\n",
       "      <td>0.005727</td>\n",
       "      <td>64.956163</td>\n",
       "    </tr>\n",
       "    <tr>\n",
       "      <th>4326</th>\n",
       "      <td>18.10.2019 00:00:00.000 GMT+0300</td>\n",
       "      <td>1.11256</td>\n",
       "      <td>1.11727</td>\n",
       "      <td>1.11149</td>\n",
       "      <td>1.11723</td>\n",
       "      <td>1.430738e+05</td>\n",
       "      <td>0.005733</td>\n",
       "      <td>69.051034</td>\n",
       "    </tr>\n",
       "  </tbody>\n",
       "</table>\n",
       "<p>4279 rows × 8 columns</p>\n",
       "</div>"
      ],
      "text/plain": [
       "                            Local time     open     high      low    close  \\\n",
       "14    23.05.2003 00:00:00.000 GMT+0300  1.16947  1.18373  1.16648  1.18266   \n",
       "15    26.05.2003 00:00:00.000 GMT+0300  1.18270  1.18754  1.17972  1.18690   \n",
       "16    27.05.2003 00:00:00.000 GMT+0300  1.18670  1.19300  1.18176  1.18288   \n",
       "17    28.05.2003 00:00:00.000 GMT+0300  1.18261  1.18453  1.17047  1.17649   \n",
       "18    29.05.2003 00:00:00.000 GMT+0300  1.17657  1.19008  1.16917  1.18833   \n",
       "...                                ...      ...      ...      ...      ...   \n",
       "4322  14.10.2019 00:00:00.000 GMT+0300  1.10399  1.10428  1.10129  1.10281   \n",
       "4323  15.10.2019 00:00:00.000 GMT+0300  1.10281  1.10463  1.09915  1.10338   \n",
       "4324  16.10.2019 00:00:00.000 GMT+0300  1.10331  1.10857  1.10226  1.10720   \n",
       "4325  17.10.2019 00:00:00.000 GMT+0300  1.10724  1.11400  1.10653  1.11254   \n",
       "4326  18.10.2019 00:00:00.000 GMT+0300  1.11256  1.11727  1.11149  1.11723   \n",
       "\n",
       "            volume       ATR        RSI  \n",
       "14    1.050209e+06  0.013346  76.794368  \n",
       "15    1.052746e+06  0.012650  78.238516  \n",
       "16    1.057689e+06  0.012477  73.564081  \n",
       "17    1.060248e+06  0.012667  66.738430  \n",
       "18    1.045905e+06  0.013637  71.934617  \n",
       "...            ...       ...        ...  \n",
       "4322  1.503300e+05  0.005444  53.542274  \n",
       "4323  2.251145e+05  0.005448  54.321918  \n",
       "4324  2.241794e+05  0.005534  59.256697  \n",
       "4325  2.219226e+05  0.005727  64.956163  \n",
       "4326  1.430738e+05  0.005733  69.051034  \n",
       "\n",
       "[4279 rows x 8 columns]"
      ]
     },
     "execution_count": 4,
     "metadata": {},
     "output_type": "execute_result"
    }
   ],
   "source": [
    "import numpy as np\n",
    "import pandas_ta as ta\n",
    "#df.ta.indicators()\n",
    "#help(ta.atr)\n",
    "df['ATR'] = df.ta.atr(length=10)\n",
    "df['RSI'] = df.ta.rsi()\n",
    "df.dropna()"
   ]
  },
  {
   "cell_type": "code",
   "execution_count": 5,
   "metadata": {},
   "outputs": [
    {
     "data": {
      "text/plain": [
       "Local time    0\n",
       "open          0\n",
       "high          0\n",
       "low           0\n",
       "close         0\n",
       "volume        0\n",
       "ATR           0\n",
       "RSI           0\n",
       "signal1       0\n",
       "dtype: int64"
      ]
     },
     "execution_count": 5,
     "metadata": {},
     "output_type": "execute_result"
    }
   ],
   "source": [
    "# for down trends\n",
    "# Shooting star\n",
    "\n",
    "def Revsignal1(df1):\n",
    "    df.dropna()\n",
    "    df.reset_index(drop=True, inplace=True)\n",
    "    \n",
    "    length = len(df1)\n",
    "    high = list(df1['high'])\n",
    "    low = list(df1['low'])\n",
    "    close = list(df1['close'])\n",
    "    open = list(df1['open'])\n",
    "    signal = [0] * length\n",
    "    highdiff = [0] * length\n",
    "    lowdiff = [0] * length\n",
    "    bodydiff = [0] * length\n",
    "    ratio1 = [0] * length\n",
    "    ratio2 = [0] * length\n",
    "        \n",
    "    for row in range(0, length):\n",
    "        \n",
    "        highdiff[row] = high[row]-max(open[row],close[row])\n",
    "        bodydiff[row] = abs(open[row]-close[row])\n",
    "        if bodydiff[row]<0.002:\n",
    "            bodydiff[row]=0.002\n",
    "        lowdiff[row] = min(open[row],close[row])-low[row]\n",
    "        ratio1[row] = highdiff[row]/bodydiff[row]\n",
    "        ratio2[row] = lowdiff[row]/bodydiff[row]\n",
    "        \n",
    "        #print(df.RSI[row])\n",
    "        #  |\n",
    "        # _|_\n",
    "        #|__|\n",
    "        # |\n",
    "        # \n",
    "        \n",
    "        if (ratio1[row]>2.5 and lowdiff[row]<0.3*highdiff[row] and bodydiff[row]>0.03 and df.RSI[row]>50 and df.RSI[row]<70 ):\n",
    "            signal[row] = 1\n",
    "        \n",
    "        #elif (ratio2[row-1]>2.5 and highdiff[row-1]<0.23*lowdiff[row-1] and bodydiff[row-1]>0.03 and bodydiff[row]>0.04 and close[row]>open[row] and close[row]>high[row-1] and df.RSI[row]<55 and df.RSI[row]>30):\n",
    "        #    signal[row] = 2\n",
    "        # _|_\n",
    "        #|__|\n",
    "        # |\n",
    "        # |\n",
    "        \n",
    "        elif (ratio2[row]>2.5 and highdiff[row]<0.23*lowdiff[row] and bodydiff[row]>0.03 and df.RSI[row]<55 and df.RSI[row]>30):\n",
    "            signal[row]=2\n",
    "    return signal\n",
    "df['signal1'] = Revsignal1(df)\n",
    "df[df['signal1']==2].count()"
   ]
  },
  {
   "cell_type": "code",
   "execution_count": 6,
   "metadata": {},
   "outputs": [
    {
     "data": {
      "text/html": [
       "<div>\n",
       "<style scoped>\n",
       "    .dataframe tbody tr th:only-of-type {\n",
       "        vertical-align: middle;\n",
       "    }\n",
       "\n",
       "    .dataframe tbody tr th {\n",
       "        vertical-align: top;\n",
       "    }\n",
       "\n",
       "    .dataframe thead th {\n",
       "        text-align: right;\n",
       "    }\n",
       "</style>\n",
       "<table border=\"1\" class=\"dataframe\">\n",
       "  <thead>\n",
       "    <tr style=\"text-align: right;\">\n",
       "      <th></th>\n",
       "      <th>Local time</th>\n",
       "      <th>open</th>\n",
       "      <th>high</th>\n",
       "      <th>low</th>\n",
       "      <th>close</th>\n",
       "      <th>volume</th>\n",
       "      <th>ATR</th>\n",
       "      <th>RSI</th>\n",
       "      <th>signal1</th>\n",
       "      <th>Trend</th>\n",
       "    </tr>\n",
       "  </thead>\n",
       "  <tbody>\n",
       "    <tr>\n",
       "      <th>4273</th>\n",
       "      <td>23.09.2019 00:00:00.000 GMT+0300</td>\n",
       "      <td>1.10181</td>\n",
       "      <td>1.10256</td>\n",
       "      <td>1.09664</td>\n",
       "      <td>1.09935</td>\n",
       "      <td>178252.8061</td>\n",
       "      <td>0.006594</td>\n",
       "      <td>41.504405</td>\n",
       "      <td>0</td>\n",
       "      <td>0</td>\n",
       "    </tr>\n",
       "    <tr>\n",
       "      <th>4274</th>\n",
       "      <td>24.09.2019 00:00:00.000 GMT+0300</td>\n",
       "      <td>1.09939</td>\n",
       "      <td>1.10244</td>\n",
       "      <td>1.09839</td>\n",
       "      <td>1.10203</td>\n",
       "      <td>180478.7978</td>\n",
       "      <td>0.006339</td>\n",
       "      <td>45.303727</td>\n",
       "      <td>0</td>\n",
       "      <td>0</td>\n",
       "    </tr>\n",
       "    <tr>\n",
       "      <th>4275</th>\n",
       "      <td>25.09.2019 00:00:00.000 GMT+0300</td>\n",
       "      <td>1.10203</td>\n",
       "      <td>1.10240</td>\n",
       "      <td>1.09376</td>\n",
       "      <td>1.09440</td>\n",
       "      <td>196215.9080</td>\n",
       "      <td>0.006569</td>\n",
       "      <td>37.780198</td>\n",
       "      <td>0</td>\n",
       "      <td>0</td>\n",
       "    </tr>\n",
       "    <tr>\n",
       "      <th>4276</th>\n",
       "      <td>26.09.2019 00:00:00.000 GMT+0300</td>\n",
       "      <td>1.09440</td>\n",
       "      <td>1.09675</td>\n",
       "      <td>1.09089</td>\n",
       "      <td>1.09227</td>\n",
       "      <td>190051.0630</td>\n",
       "      <td>0.006498</td>\n",
       "      <td>35.983674</td>\n",
       "      <td>0</td>\n",
       "      <td>0</td>\n",
       "    </tr>\n",
       "    <tr>\n",
       "      <th>4277</th>\n",
       "      <td>27.09.2019 00:00:00.000 GMT+0300</td>\n",
       "      <td>1.09231</td>\n",
       "      <td>1.09590</td>\n",
       "      <td>1.09049</td>\n",
       "      <td>1.09439</td>\n",
       "      <td>172543.0575</td>\n",
       "      <td>0.006390</td>\n",
       "      <td>39.088308</td>\n",
       "      <td>0</td>\n",
       "      <td>0</td>\n",
       "    </tr>\n",
       "    <tr>\n",
       "      <th>4278</th>\n",
       "      <td>30.09.2019 00:00:00.000 GMT+0300</td>\n",
       "      <td>1.09441</td>\n",
       "      <td>1.09481</td>\n",
       "      <td>1.08850</td>\n",
       "      <td>1.09008</td>\n",
       "      <td>168184.5779</td>\n",
       "      <td>0.006382</td>\n",
       "      <td>35.336276</td>\n",
       "      <td>0</td>\n",
       "      <td>0</td>\n",
       "    </tr>\n",
       "    <tr>\n",
       "      <th>4279</th>\n",
       "      <td>01.10.2019 00:00:00.000 GMT+0300</td>\n",
       "      <td>1.09004</td>\n",
       "      <td>1.09430</td>\n",
       "      <td>1.08793</td>\n",
       "      <td>1.09331</td>\n",
       "      <td>207316.7850</td>\n",
       "      <td>0.006380</td>\n",
       "      <td>39.985552</td>\n",
       "      <td>0</td>\n",
       "      <td>0</td>\n",
       "    </tr>\n",
       "    <tr>\n",
       "      <th>4280</th>\n",
       "      <td>02.10.2019 00:00:00.000 GMT+0300</td>\n",
       "      <td>1.09349</td>\n",
       "      <td>1.09638</td>\n",
       "      <td>1.09044</td>\n",
       "      <td>1.09594</td>\n",
       "      <td>202499.5268</td>\n",
       "      <td>0.006336</td>\n",
       "      <td>43.544864</td>\n",
       "      <td>0</td>\n",
       "      <td>0</td>\n",
       "    </tr>\n",
       "    <tr>\n",
       "      <th>4281</th>\n",
       "      <td>03.10.2019 00:00:00.000 GMT+0300</td>\n",
       "      <td>1.09594</td>\n",
       "      <td>1.09994</td>\n",
       "      <td>1.09411</td>\n",
       "      <td>1.09659</td>\n",
       "      <td>217992.0050</td>\n",
       "      <td>0.006286</td>\n",
       "      <td>44.422176</td>\n",
       "      <td>0</td>\n",
       "      <td>0</td>\n",
       "    </tr>\n",
       "    <tr>\n",
       "      <th>4282</th>\n",
       "      <td>04.10.2019 00:00:00.000 GMT+0300</td>\n",
       "      <td>1.09660</td>\n",
       "      <td>1.09995</td>\n",
       "      <td>1.09572</td>\n",
       "      <td>1.09815</td>\n",
       "      <td>186839.3200</td>\n",
       "      <td>0.006080</td>\n",
       "      <td>46.568255</td>\n",
       "      <td>0</td>\n",
       "      <td>0</td>\n",
       "    </tr>\n",
       "    <tr>\n",
       "      <th>4283</th>\n",
       "      <td>07.10.2019 00:00:00.000 GMT+0300</td>\n",
       "      <td>1.09849</td>\n",
       "      <td>1.10008</td>\n",
       "      <td>1.09622</td>\n",
       "      <td>1.09717</td>\n",
       "      <td>165999.1700</td>\n",
       "      <td>0.005858</td>\n",
       "      <td>45.382703</td>\n",
       "      <td>0</td>\n",
       "      <td>0</td>\n",
       "    </tr>\n",
       "    <tr>\n",
       "      <th>4284</th>\n",
       "      <td>08.10.2019 00:00:00.000 GMT+0300</td>\n",
       "      <td>1.09718</td>\n",
       "      <td>1.09959</td>\n",
       "      <td>1.09413</td>\n",
       "      <td>1.09582</td>\n",
       "      <td>207970.5700</td>\n",
       "      <td>0.005818</td>\n",
       "      <td>43.731070</td>\n",
       "      <td>0</td>\n",
       "      <td>0</td>\n",
       "    </tr>\n",
       "    <tr>\n",
       "      <th>4285</th>\n",
       "      <td>09.10.2019 00:00:00.000 GMT+0300</td>\n",
       "      <td>1.09583</td>\n",
       "      <td>1.09902</td>\n",
       "      <td>1.09541</td>\n",
       "      <td>1.09720</td>\n",
       "      <td>184647.7152</td>\n",
       "      <td>0.005598</td>\n",
       "      <td>45.898583</td>\n",
       "      <td>0</td>\n",
       "      <td>0</td>\n",
       "    </tr>\n",
       "    <tr>\n",
       "      <th>4286</th>\n",
       "      <td>10.10.2019 00:00:00.000 GMT+0300</td>\n",
       "      <td>1.09717</td>\n",
       "      <td>1.10341</td>\n",
       "      <td>1.09717</td>\n",
       "      <td>1.10057</td>\n",
       "      <td>230667.9050</td>\n",
       "      <td>0.005662</td>\n",
       "      <td>50.875148</td>\n",
       "      <td>0</td>\n",
       "      <td>0</td>\n",
       "    </tr>\n",
       "    <tr>\n",
       "      <th>4287</th>\n",
       "      <td>11.10.2019 00:00:00.000 GMT+0300</td>\n",
       "      <td>1.10059</td>\n",
       "      <td>1.10630</td>\n",
       "      <td>1.10009</td>\n",
       "      <td>1.10400</td>\n",
       "      <td>245260.8300</td>\n",
       "      <td>0.005717</td>\n",
       "      <td>55.374529</td>\n",
       "      <td>0</td>\n",
       "      <td>0</td>\n",
       "    </tr>\n",
       "    <tr>\n",
       "      <th>4288</th>\n",
       "      <td>14.10.2019 00:00:00.000 GMT+0300</td>\n",
       "      <td>1.10399</td>\n",
       "      <td>1.10428</td>\n",
       "      <td>1.10129</td>\n",
       "      <td>1.10281</td>\n",
       "      <td>150329.9600</td>\n",
       "      <td>0.005444</td>\n",
       "      <td>53.542274</td>\n",
       "      <td>0</td>\n",
       "      <td>0</td>\n",
       "    </tr>\n",
       "    <tr>\n",
       "      <th>4289</th>\n",
       "      <td>15.10.2019 00:00:00.000 GMT+0300</td>\n",
       "      <td>1.10281</td>\n",
       "      <td>1.10463</td>\n",
       "      <td>1.09915</td>\n",
       "      <td>1.10338</td>\n",
       "      <td>225114.4925</td>\n",
       "      <td>0.005448</td>\n",
       "      <td>54.321918</td>\n",
       "      <td>0</td>\n",
       "      <td>0</td>\n",
       "    </tr>\n",
       "    <tr>\n",
       "      <th>4290</th>\n",
       "      <td>16.10.2019 00:00:00.000 GMT+0300</td>\n",
       "      <td>1.10331</td>\n",
       "      <td>1.10857</td>\n",
       "      <td>1.10226</td>\n",
       "      <td>1.10720</td>\n",
       "      <td>224179.4392</td>\n",
       "      <td>0.005534</td>\n",
       "      <td>59.256697</td>\n",
       "      <td>0</td>\n",
       "      <td>0</td>\n",
       "    </tr>\n",
       "    <tr>\n",
       "      <th>4291</th>\n",
       "      <td>17.10.2019 00:00:00.000 GMT+0300</td>\n",
       "      <td>1.10724</td>\n",
       "      <td>1.11400</td>\n",
       "      <td>1.10653</td>\n",
       "      <td>1.11254</td>\n",
       "      <td>221922.6500</td>\n",
       "      <td>0.005727</td>\n",
       "      <td>64.956163</td>\n",
       "      <td>0</td>\n",
       "      <td>0</td>\n",
       "    </tr>\n",
       "    <tr>\n",
       "      <th>4292</th>\n",
       "      <td>18.10.2019 00:00:00.000 GMT+0300</td>\n",
       "      <td>1.11256</td>\n",
       "      <td>1.11727</td>\n",
       "      <td>1.11149</td>\n",
       "      <td>1.11723</td>\n",
       "      <td>143073.7750</td>\n",
       "      <td>0.005733</td>\n",
       "      <td>69.051034</td>\n",
       "      <td>0</td>\n",
       "      <td>0</td>\n",
       "    </tr>\n",
       "  </tbody>\n",
       "</table>\n",
       "</div>"
      ],
      "text/plain": [
       "                            Local time     open     high      low    close  \\\n",
       "4273  23.09.2019 00:00:00.000 GMT+0300  1.10181  1.10256  1.09664  1.09935   \n",
       "4274  24.09.2019 00:00:00.000 GMT+0300  1.09939  1.10244  1.09839  1.10203   \n",
       "4275  25.09.2019 00:00:00.000 GMT+0300  1.10203  1.10240  1.09376  1.09440   \n",
       "4276  26.09.2019 00:00:00.000 GMT+0300  1.09440  1.09675  1.09089  1.09227   \n",
       "4277  27.09.2019 00:00:00.000 GMT+0300  1.09231  1.09590  1.09049  1.09439   \n",
       "4278  30.09.2019 00:00:00.000 GMT+0300  1.09441  1.09481  1.08850  1.09008   \n",
       "4279  01.10.2019 00:00:00.000 GMT+0300  1.09004  1.09430  1.08793  1.09331   \n",
       "4280  02.10.2019 00:00:00.000 GMT+0300  1.09349  1.09638  1.09044  1.09594   \n",
       "4281  03.10.2019 00:00:00.000 GMT+0300  1.09594  1.09994  1.09411  1.09659   \n",
       "4282  04.10.2019 00:00:00.000 GMT+0300  1.09660  1.09995  1.09572  1.09815   \n",
       "4283  07.10.2019 00:00:00.000 GMT+0300  1.09849  1.10008  1.09622  1.09717   \n",
       "4284  08.10.2019 00:00:00.000 GMT+0300  1.09718  1.09959  1.09413  1.09582   \n",
       "4285  09.10.2019 00:00:00.000 GMT+0300  1.09583  1.09902  1.09541  1.09720   \n",
       "4286  10.10.2019 00:00:00.000 GMT+0300  1.09717  1.10341  1.09717  1.10057   \n",
       "4287  11.10.2019 00:00:00.000 GMT+0300  1.10059  1.10630  1.10009  1.10400   \n",
       "4288  14.10.2019 00:00:00.000 GMT+0300  1.10399  1.10428  1.10129  1.10281   \n",
       "4289  15.10.2019 00:00:00.000 GMT+0300  1.10281  1.10463  1.09915  1.10338   \n",
       "4290  16.10.2019 00:00:00.000 GMT+0300  1.10331  1.10857  1.10226  1.10720   \n",
       "4291  17.10.2019 00:00:00.000 GMT+0300  1.10724  1.11400  1.10653  1.11254   \n",
       "4292  18.10.2019 00:00:00.000 GMT+0300  1.11256  1.11727  1.11149  1.11723   \n",
       "\n",
       "           volume       ATR        RSI  signal1  Trend  \n",
       "4273  178252.8061  0.006594  41.504405        0      0  \n",
       "4274  180478.7978  0.006339  45.303727        0      0  \n",
       "4275  196215.9080  0.006569  37.780198        0      0  \n",
       "4276  190051.0630  0.006498  35.983674        0      0  \n",
       "4277  172543.0575  0.006390  39.088308        0      0  \n",
       "4278  168184.5779  0.006382  35.336276        0      0  \n",
       "4279  207316.7850  0.006380  39.985552        0      0  \n",
       "4280  202499.5268  0.006336  43.544864        0      0  \n",
       "4281  217992.0050  0.006286  44.422176        0      0  \n",
       "4282  186839.3200  0.006080  46.568255        0      0  \n",
       "4283  165999.1700  0.005858  45.382703        0      0  \n",
       "4284  207970.5700  0.005818  43.731070        0      0  \n",
       "4285  184647.7152  0.005598  45.898583        0      0  \n",
       "4286  230667.9050  0.005662  50.875148        0      0  \n",
       "4287  245260.8300  0.005717  55.374529        0      0  \n",
       "4288  150329.9600  0.005444  53.542274        0      0  \n",
       "4289  225114.4925  0.005448  54.321918        0      0  \n",
       "4290  224179.4392  0.005534  59.256697        0      0  \n",
       "4291  221922.6500  0.005727  64.956163        0      0  \n",
       "4292  143073.7750  0.005733  69.051034        0      0  "
      ]
     },
     "execution_count": 6,
     "metadata": {},
     "output_type": "execute_result"
    }
   ],
   "source": [
    "#Target Shooting Star\n",
    "\n",
    "def mytarget(barsupfront, df1):\n",
    "    length = len(df1)\n",
    "    high = list(df1['high'])\n",
    "    low = list(df1['low'])\n",
    "    close = list(df1['close'])\n",
    "    open = list(df1['open'])\n",
    "    datr = list(df1['ATR'])\n",
    "    trendcat = [0] * length\n",
    "    \n",
    "\n",
    "    for line in range (0,length-barsupfront-1):\n",
    "        valueOpenLow = 0\n",
    "        valueOpenHigh = 0\n",
    "        \n",
    "        highdiff = high[line]-max(open[line],close[line])\n",
    "        bodydiff = abs(open[line]-close[line])\n",
    "        \n",
    "        pipdiff = datr[line]*1. #highdiff*1.3 #for SL 400*1e-3\n",
    "        if pipdiff<1.1:\n",
    "            pipdiff=1.1\n",
    "            \n",
    "        SLTPRatio = 2. #pipdiff*Ratio gives TP\n",
    "        \n",
    "        for i in range(1,barsupfront+1):\n",
    "            value1 = close[line]-low[line+i]\n",
    "            value2 = close[line]-high[line+i]\n",
    "            valueOpenLow = max(value1, valueOpenLow)\n",
    "            valueOpenHigh = min(value2, valueOpenHigh)\n",
    "\n",
    "            if ( (valueOpenLow >= (SLTPRatio*pipdiff) ) and (-valueOpenHigh < pipdiff) ):\n",
    "                trendcat[line] = 1 #-1 downtrend\n",
    "                break\n",
    "            elif ((valueOpenLow < pipdiff) ) and (-valueOpenHigh >= (SLTPRatio*pipdiff)):\n",
    "                trendcat[line] = 2 # uptrend\n",
    "                break \n",
    "            else:\n",
    "                trendcat[line] = 0 # no clear trend\n",
    "            \n",
    "    return trendcat\n",
    "\n",
    "# mytarget(barsfront to take into account, dataframe)\n",
    "df['Trend'] = mytarget(100, df)\n",
    "df.tail(20)"
   ]
  },
  {
   "cell_type": "code",
   "execution_count": 7,
   "metadata": {},
   "outputs": [
    {
     "name": "stdout",
     "output_type": "stream",
     "text": [
      "nan\n"
     ]
    },
    {
     "name": "stderr",
     "output_type": "stream",
     "text": [
      "C:\\Users\\jacks\\AppData\\Local\\Temp\\ipykernel_165120\\3370182367.py:7: RuntimeWarning: invalid value encountered in scalar divide\n",
      "  print(df[df['result']==trendId].result.count()/df[df['signal1']==trendId].signal1.count())\n"
     ]
    },
    {
     "data": {
      "text/html": [
       "<div>\n",
       "<style scoped>\n",
       "    .dataframe tbody tr th:only-of-type {\n",
       "        vertical-align: middle;\n",
       "    }\n",
       "\n",
       "    .dataframe tbody tr th {\n",
       "        vertical-align: top;\n",
       "    }\n",
       "\n",
       "    .dataframe thead th {\n",
       "        text-align: right;\n",
       "    }\n",
       "</style>\n",
       "<table border=\"1\" class=\"dataframe\">\n",
       "  <thead>\n",
       "    <tr style=\"text-align: right;\">\n",
       "      <th></th>\n",
       "      <th>Local time</th>\n",
       "      <th>open</th>\n",
       "      <th>high</th>\n",
       "      <th>low</th>\n",
       "      <th>close</th>\n",
       "      <th>volume</th>\n",
       "      <th>ATR</th>\n",
       "      <th>RSI</th>\n",
       "      <th>signal1</th>\n",
       "      <th>Trend</th>\n",
       "      <th>result</th>\n",
       "    </tr>\n",
       "  </thead>\n",
       "  <tbody>\n",
       "  </tbody>\n",
       "</table>\n",
       "</div>"
      ],
      "text/plain": [
       "Empty DataFrame\n",
       "Columns: [Local time, open, high, low, close, volume, ATR, RSI, signal1, Trend, result]\n",
       "Index: []"
      ]
     },
     "execution_count": 7,
     "metadata": {},
     "output_type": "execute_result"
    }
   ],
   "source": [
    "conditions = [(df['Trend'] == 1) & (df['signal1'] == 1),\n",
    "              (df['Trend'] == 2) & (df['signal1'] == 2)]\n",
    "values = [1, 2]\n",
    "df['result'] = np.select(conditions, values)\n",
    "\n",
    "trendId=2\n",
    "print(df[df['result']==trendId].result.count()/df[df['signal1']==trendId].signal1.count())\n",
    "df[ (df['result']!=trendId) & (df['signal1']==trendId) ] # false positives\n",
    "\n",
    "#histrs = df[ (df['result']==2) & (df['signal1']==2) ].RSI # false positives\n",
    "#import matplotlib.pyplot as plt\n",
    "#plt.hist(histrs,bins=2)  # density=False would make counts\n",
    "#plt.ylabel('Probability')\n",
    "#plt.xlabel('RSI');"
   ]
  },
  {
   "cell_type": "code",
   "execution_count": 8,
   "metadata": {},
   "outputs": [
    {
     "data": {
      "application/vnd.plotly.v1+json": {
       "config": {
        "plotlyServerURL": "https://plot.ly"
       },
       "data": [
        {
         "close": [
          1.29456,
          1.29544,
          1.30361,
          1.2959,
          1.30225,
          1.3048,
          1.30873,
          1.31833,
          1.32713,
          1.32952,
          1.32796,
          1.32781,
          1.33427,
          1.3269,
          1.34505,
          1.34057,
          1.34177,
          1.33344,
          1.33093,
          1.3224,
          1.33096,
          1.32959,
          1.33904,
          1.32404,
          1.33075,
          1.33935,
          1.33727,
          1.33898,
          1.35143,
          1.35316,
          1.36157,
          1.36038,
          1.36052,
          1.36345,
          1.35537,
          1.34645,
          1.3278,
          1.32616,
          1.31718,
          1.30515,
          1.30732,
          1.31058,
          1.32541,
          1.32212,
          1.31104,
          1.30674,
          1.30202,
          1.30098,
          1.29621,
          1.30388,
          1.30605,
          1.29728,
          1.3072,
          1.30433,
          1.3036,
          1.30369,
          1.30448,
          1.30245,
          1.29745,
          1.2869,
          1.27565,
          1.27612,
          1.28046,
          1.2872,
          1.28646,
          1.2976,
          1.30237,
          1.30276,
          1.30695,
          1.30725,
          1.30665,
          1.32587,
          1.32151,
          1.31959,
          1.32449,
          1.32253,
          1.31884,
          1.31424,
          1.31075,
          1.32361
         ],
         "high": [
          1.29984,
          1.2993,
          1.30462,
          1.30732,
          1.30672,
          1.30517,
          1.31014,
          1.31888,
          1.32801,
          1.33288,
          1.33038,
          1.33311,
          1.33559,
          1.33816,
          1.34604,
          1.34555,
          1.34691,
          1.34324,
          1.33617,
          1.33182,
          1.33259,
          1.33314,
          1.3443,
          1.3428,
          1.3316,
          1.34083,
          1.34074,
          1.3404,
          1.35159,
          1.35475,
          1.36384,
          1.36429,
          1.36468,
          1.36653,
          1.36593,
          1.35797,
          1.34941,
          1.33016,
          1.32811,
          1.32489,
          1.31209,
          1.3171,
          1.32925,
          1.32653,
          1.32233,
          1.3127,
          1.30731,
          1.3117,
          1.30227,
          1.30664,
          1.30982,
          1.30751,
          1.31069,
          1.3122,
          1.3079,
          1.30582,
          1.30641,
          1.30926,
          1.30364,
          1.30377,
          1.28638,
          1.2797,
          1.28129,
          1.29043,
          1.28952,
          1.29895,
          1.30492,
          1.30628,
          1.3089,
          1.30825,
          1.30774,
          1.3261,
          1.32741,
          1.3269,
          1.32481,
          1.32792,
          1.3231,
          1.31888,
          1.31643,
          1.3254
         ],
         "low": [
          1.29165,
          1.29179,
          1.29497,
          1.29408,
          1.29385,
          1.30133,
          1.29768,
          1.30792,
          1.31618,
          1.31858,
          1.32292,
          1.32312,
          1.32749,
          1.32373,
          1.32513,
          1.33899,
          1.33872,
          1.31944,
          1.32513,
          1.31404,
          1.31883,
          1.32589,
          1.32608,
          1.31931,
          1.3227,
          1.32959,
          1.33379,
          1.33421,
          1.33798,
          1.34834,
          1.3512,
          1.35774,
          1.35567,
          1.3574,
          1.35042,
          1.33871,
          1.32509,
          1.3216,
          1.31551,
          1.30244,
          1.30486,
          1.30669,
          1.30826,
          1.31932,
          1.30566,
          1.30589,
          1.29948,
          1.29639,
          1.29253,
          1.29217,
          1.30279,
          1.29452,
          1.29648,
          1.30104,
          1.29848,
          1.29761,
          1.29972,
          1.30043,
          1.2941,
          1.2846,
          1.27319,
          1.27318,
          1.27333,
          1.27374,
          1.28439,
          1.28739,
          1.29442,
          1.29583,
          1.30138,
          1.30142,
          1.30317,
          1.3052,
          1.31854,
          1.31529,
          1.31457,
          1.32176,
          1.31698,
          1.30884,
          1.30963,
          1.30894
         ],
         "open": [
          1.29719,
          1.29473,
          1.2955,
          1.30331,
          1.29607,
          1.30373,
          1.30482,
          1.3087,
          1.3187,
          1.3262,
          1.32679,
          1.32788,
          1.32796,
          1.33421,
          1.32682,
          1.34422,
          1.34062,
          1.34181,
          1.33373,
          1.3309,
          1.31928,
          1.33112,
          1.32955,
          1.3393,
          1.32423,
          1.33288,
          1.33943,
          1.33707,
          1.33891,
          1.35131,
          1.3529,
          1.3615,
          1.36112,
          1.36065,
          1.36346,
          1.3548,
          1.34648,
          1.32776,
          1.32613,
          1.31708,
          1.30589,
          1.30736,
          1.31053,
          1.32531,
          1.32222,
          1.31015,
          1.30644,
          1.30176,
          1.30091,
          1.2962,
          1.30392,
          1.30597,
          1.29735,
          1.30706,
          1.3045,
          1.30305,
          1.30373,
          1.30443,
          1.30252,
          1.29743,
          1.28585,
          1.27558,
          1.27623,
          1.28049,
          1.28732,
          1.28761,
          1.29751,
          1.30263,
          1.30294,
          1.30692,
          1.30435,
          1.30675,
          1.32583,
          1.3215,
          1.3197,
          1.32405,
          1.32272,
          1.31874,
          1.31421,
          1.31093
         ],
         "type": "candlestick",
         "x": [
          400,
          401,
          402,
          403,
          404,
          405,
          406,
          407,
          408,
          409,
          410,
          411,
          412,
          413,
          414,
          415,
          416,
          417,
          418,
          419,
          420,
          421,
          422,
          423,
          424,
          425,
          426,
          427,
          428,
          429,
          430,
          431,
          432,
          433,
          434,
          435,
          436,
          437,
          438,
          439,
          440,
          441,
          442,
          443,
          444,
          445,
          446,
          447,
          448,
          449,
          450,
          451,
          452,
          453,
          454,
          455,
          456,
          457,
          458,
          459,
          460,
          461,
          462,
          463,
          464,
          465,
          466,
          467,
          468,
          469,
          470,
          471,
          472,
          473,
          474,
          475,
          476,
          477,
          478,
          479
         ]
        }
       ],
       "layout": {
        "template": {
         "data": {
          "bar": [
           {
            "error_x": {
             "color": "#2a3f5f"
            },
            "error_y": {
             "color": "#2a3f5f"
            },
            "marker": {
             "line": {
              "color": "#E5ECF6",
              "width": 0.5
             },
             "pattern": {
              "fillmode": "overlay",
              "size": 10,
              "solidity": 0.2
             }
            },
            "type": "bar"
           }
          ],
          "barpolar": [
           {
            "marker": {
             "line": {
              "color": "#E5ECF6",
              "width": 0.5
             },
             "pattern": {
              "fillmode": "overlay",
              "size": 10,
              "solidity": 0.2
             }
            },
            "type": "barpolar"
           }
          ],
          "carpet": [
           {
            "aaxis": {
             "endlinecolor": "#2a3f5f",
             "gridcolor": "white",
             "linecolor": "white",
             "minorgridcolor": "white",
             "startlinecolor": "#2a3f5f"
            },
            "baxis": {
             "endlinecolor": "#2a3f5f",
             "gridcolor": "white",
             "linecolor": "white",
             "minorgridcolor": "white",
             "startlinecolor": "#2a3f5f"
            },
            "type": "carpet"
           }
          ],
          "choropleth": [
           {
            "colorbar": {
             "outlinewidth": 0,
             "ticks": ""
            },
            "type": "choropleth"
           }
          ],
          "contour": [
           {
            "colorbar": {
             "outlinewidth": 0,
             "ticks": ""
            },
            "colorscale": [
             [
              0,
              "#0d0887"
             ],
             [
              0.1111111111111111,
              "#46039f"
             ],
             [
              0.2222222222222222,
              "#7201a8"
             ],
             [
              0.3333333333333333,
              "#9c179e"
             ],
             [
              0.4444444444444444,
              "#bd3786"
             ],
             [
              0.5555555555555556,
              "#d8576b"
             ],
             [
              0.6666666666666666,
              "#ed7953"
             ],
             [
              0.7777777777777778,
              "#fb9f3a"
             ],
             [
              0.8888888888888888,
              "#fdca26"
             ],
             [
              1,
              "#f0f921"
             ]
            ],
            "type": "contour"
           }
          ],
          "contourcarpet": [
           {
            "colorbar": {
             "outlinewidth": 0,
             "ticks": ""
            },
            "type": "contourcarpet"
           }
          ],
          "heatmap": [
           {
            "colorbar": {
             "outlinewidth": 0,
             "ticks": ""
            },
            "colorscale": [
             [
              0,
              "#0d0887"
             ],
             [
              0.1111111111111111,
              "#46039f"
             ],
             [
              0.2222222222222222,
              "#7201a8"
             ],
             [
              0.3333333333333333,
              "#9c179e"
             ],
             [
              0.4444444444444444,
              "#bd3786"
             ],
             [
              0.5555555555555556,
              "#d8576b"
             ],
             [
              0.6666666666666666,
              "#ed7953"
             ],
             [
              0.7777777777777778,
              "#fb9f3a"
             ],
             [
              0.8888888888888888,
              "#fdca26"
             ],
             [
              1,
              "#f0f921"
             ]
            ],
            "type": "heatmap"
           }
          ],
          "heatmapgl": [
           {
            "colorbar": {
             "outlinewidth": 0,
             "ticks": ""
            },
            "colorscale": [
             [
              0,
              "#0d0887"
             ],
             [
              0.1111111111111111,
              "#46039f"
             ],
             [
              0.2222222222222222,
              "#7201a8"
             ],
             [
              0.3333333333333333,
              "#9c179e"
             ],
             [
              0.4444444444444444,
              "#bd3786"
             ],
             [
              0.5555555555555556,
              "#d8576b"
             ],
             [
              0.6666666666666666,
              "#ed7953"
             ],
             [
              0.7777777777777778,
              "#fb9f3a"
             ],
             [
              0.8888888888888888,
              "#fdca26"
             ],
             [
              1,
              "#f0f921"
             ]
            ],
            "type": "heatmapgl"
           }
          ],
          "histogram": [
           {
            "marker": {
             "pattern": {
              "fillmode": "overlay",
              "size": 10,
              "solidity": 0.2
             }
            },
            "type": "histogram"
           }
          ],
          "histogram2d": [
           {
            "colorbar": {
             "outlinewidth": 0,
             "ticks": ""
            },
            "colorscale": [
             [
              0,
              "#0d0887"
             ],
             [
              0.1111111111111111,
              "#46039f"
             ],
             [
              0.2222222222222222,
              "#7201a8"
             ],
             [
              0.3333333333333333,
              "#9c179e"
             ],
             [
              0.4444444444444444,
              "#bd3786"
             ],
             [
              0.5555555555555556,
              "#d8576b"
             ],
             [
              0.6666666666666666,
              "#ed7953"
             ],
             [
              0.7777777777777778,
              "#fb9f3a"
             ],
             [
              0.8888888888888888,
              "#fdca26"
             ],
             [
              1,
              "#f0f921"
             ]
            ],
            "type": "histogram2d"
           }
          ],
          "histogram2dcontour": [
           {
            "colorbar": {
             "outlinewidth": 0,
             "ticks": ""
            },
            "colorscale": [
             [
              0,
              "#0d0887"
             ],
             [
              0.1111111111111111,
              "#46039f"
             ],
             [
              0.2222222222222222,
              "#7201a8"
             ],
             [
              0.3333333333333333,
              "#9c179e"
             ],
             [
              0.4444444444444444,
              "#bd3786"
             ],
             [
              0.5555555555555556,
              "#d8576b"
             ],
             [
              0.6666666666666666,
              "#ed7953"
             ],
             [
              0.7777777777777778,
              "#fb9f3a"
             ],
             [
              0.8888888888888888,
              "#fdca26"
             ],
             [
              1,
              "#f0f921"
             ]
            ],
            "type": "histogram2dcontour"
           }
          ],
          "mesh3d": [
           {
            "colorbar": {
             "outlinewidth": 0,
             "ticks": ""
            },
            "type": "mesh3d"
           }
          ],
          "parcoords": [
           {
            "line": {
             "colorbar": {
              "outlinewidth": 0,
              "ticks": ""
             }
            },
            "type": "parcoords"
           }
          ],
          "pie": [
           {
            "automargin": true,
            "type": "pie"
           }
          ],
          "scatter": [
           {
            "fillpattern": {
             "fillmode": "overlay",
             "size": 10,
             "solidity": 0.2
            },
            "type": "scatter"
           }
          ],
          "scatter3d": [
           {
            "line": {
             "colorbar": {
              "outlinewidth": 0,
              "ticks": ""
             }
            },
            "marker": {
             "colorbar": {
              "outlinewidth": 0,
              "ticks": ""
             }
            },
            "type": "scatter3d"
           }
          ],
          "scattercarpet": [
           {
            "marker": {
             "colorbar": {
              "outlinewidth": 0,
              "ticks": ""
             }
            },
            "type": "scattercarpet"
           }
          ],
          "scattergeo": [
           {
            "marker": {
             "colorbar": {
              "outlinewidth": 0,
              "ticks": ""
             }
            },
            "type": "scattergeo"
           }
          ],
          "scattergl": [
           {
            "marker": {
             "colorbar": {
              "outlinewidth": 0,
              "ticks": ""
             }
            },
            "type": "scattergl"
           }
          ],
          "scattermapbox": [
           {
            "marker": {
             "colorbar": {
              "outlinewidth": 0,
              "ticks": ""
             }
            },
            "type": "scattermapbox"
           }
          ],
          "scatterpolar": [
           {
            "marker": {
             "colorbar": {
              "outlinewidth": 0,
              "ticks": ""
             }
            },
            "type": "scatterpolar"
           }
          ],
          "scatterpolargl": [
           {
            "marker": {
             "colorbar": {
              "outlinewidth": 0,
              "ticks": ""
             }
            },
            "type": "scatterpolargl"
           }
          ],
          "scatterternary": [
           {
            "marker": {
             "colorbar": {
              "outlinewidth": 0,
              "ticks": ""
             }
            },
            "type": "scatterternary"
           }
          ],
          "surface": [
           {
            "colorbar": {
             "outlinewidth": 0,
             "ticks": ""
            },
            "colorscale": [
             [
              0,
              "#0d0887"
             ],
             [
              0.1111111111111111,
              "#46039f"
             ],
             [
              0.2222222222222222,
              "#7201a8"
             ],
             [
              0.3333333333333333,
              "#9c179e"
             ],
             [
              0.4444444444444444,
              "#bd3786"
             ],
             [
              0.5555555555555556,
              "#d8576b"
             ],
             [
              0.6666666666666666,
              "#ed7953"
             ],
             [
              0.7777777777777778,
              "#fb9f3a"
             ],
             [
              0.8888888888888888,
              "#fdca26"
             ],
             [
              1,
              "#f0f921"
             ]
            ],
            "type": "surface"
           }
          ],
          "table": [
           {
            "cells": {
             "fill": {
              "color": "#EBF0F8"
             },
             "line": {
              "color": "white"
             }
            },
            "header": {
             "fill": {
              "color": "#C8D4E3"
             },
             "line": {
              "color": "white"
             }
            },
            "type": "table"
           }
          ]
         },
         "layout": {
          "annotationdefaults": {
           "arrowcolor": "#2a3f5f",
           "arrowhead": 0,
           "arrowwidth": 1
          },
          "autotypenumbers": "strict",
          "coloraxis": {
           "colorbar": {
            "outlinewidth": 0,
            "ticks": ""
           }
          },
          "colorscale": {
           "diverging": [
            [
             0,
             "#8e0152"
            ],
            [
             0.1,
             "#c51b7d"
            ],
            [
             0.2,
             "#de77ae"
            ],
            [
             0.3,
             "#f1b6da"
            ],
            [
             0.4,
             "#fde0ef"
            ],
            [
             0.5,
             "#f7f7f7"
            ],
            [
             0.6,
             "#e6f5d0"
            ],
            [
             0.7,
             "#b8e186"
            ],
            [
             0.8,
             "#7fbc41"
            ],
            [
             0.9,
             "#4d9221"
            ],
            [
             1,
             "#276419"
            ]
           ],
           "sequential": [
            [
             0,
             "#0d0887"
            ],
            [
             0.1111111111111111,
             "#46039f"
            ],
            [
             0.2222222222222222,
             "#7201a8"
            ],
            [
             0.3333333333333333,
             "#9c179e"
            ],
            [
             0.4444444444444444,
             "#bd3786"
            ],
            [
             0.5555555555555556,
             "#d8576b"
            ],
            [
             0.6666666666666666,
             "#ed7953"
            ],
            [
             0.7777777777777778,
             "#fb9f3a"
            ],
            [
             0.8888888888888888,
             "#fdca26"
            ],
            [
             1,
             "#f0f921"
            ]
           ],
           "sequentialminus": [
            [
             0,
             "#0d0887"
            ],
            [
             0.1111111111111111,
             "#46039f"
            ],
            [
             0.2222222222222222,
             "#7201a8"
            ],
            [
             0.3333333333333333,
             "#9c179e"
            ],
            [
             0.4444444444444444,
             "#bd3786"
            ],
            [
             0.5555555555555556,
             "#d8576b"
            ],
            [
             0.6666666666666666,
             "#ed7953"
            ],
            [
             0.7777777777777778,
             "#fb9f3a"
            ],
            [
             0.8888888888888888,
             "#fdca26"
            ],
            [
             1,
             "#f0f921"
            ]
           ]
          },
          "colorway": [
           "#636efa",
           "#EF553B",
           "#00cc96",
           "#ab63fa",
           "#FFA15A",
           "#19d3f3",
           "#FF6692",
           "#B6E880",
           "#FF97FF",
           "#FECB52"
          ],
          "font": {
           "color": "#2a3f5f"
          },
          "geo": {
           "bgcolor": "white",
           "lakecolor": "white",
           "landcolor": "#E5ECF6",
           "showlakes": true,
           "showland": true,
           "subunitcolor": "white"
          },
          "hoverlabel": {
           "align": "left"
          },
          "hovermode": "closest",
          "mapbox": {
           "style": "light"
          },
          "paper_bgcolor": "white",
          "plot_bgcolor": "#E5ECF6",
          "polar": {
           "angularaxis": {
            "gridcolor": "white",
            "linecolor": "white",
            "ticks": ""
           },
           "bgcolor": "#E5ECF6",
           "radialaxis": {
            "gridcolor": "white",
            "linecolor": "white",
            "ticks": ""
           }
          },
          "scene": {
           "xaxis": {
            "backgroundcolor": "#E5ECF6",
            "gridcolor": "white",
            "gridwidth": 2,
            "linecolor": "white",
            "showbackground": true,
            "ticks": "",
            "zerolinecolor": "white"
           },
           "yaxis": {
            "backgroundcolor": "#E5ECF6",
            "gridcolor": "white",
            "gridwidth": 2,
            "linecolor": "white",
            "showbackground": true,
            "ticks": "",
            "zerolinecolor": "white"
           },
           "zaxis": {
            "backgroundcolor": "#E5ECF6",
            "gridcolor": "white",
            "gridwidth": 2,
            "linecolor": "white",
            "showbackground": true,
            "ticks": "",
            "zerolinecolor": "white"
           }
          },
          "shapedefaults": {
           "line": {
            "color": "#2a3f5f"
           }
          },
          "ternary": {
           "aaxis": {
            "gridcolor": "white",
            "linecolor": "white",
            "ticks": ""
           },
           "baxis": {
            "gridcolor": "white",
            "linecolor": "white",
            "ticks": ""
           },
           "bgcolor": "#E5ECF6",
           "caxis": {
            "gridcolor": "white",
            "linecolor": "white",
            "ticks": ""
           }
          },
          "title": {
           "x": 0.05
          },
          "xaxis": {
           "automargin": true,
           "gridcolor": "white",
           "linecolor": "white",
           "ticks": "",
           "title": {
            "standoff": 15
           },
           "zerolinecolor": "white",
           "zerolinewidth": 2
          },
          "yaxis": {
           "automargin": true,
           "gridcolor": "white",
           "linecolor": "white",
           "ticks": "",
           "title": {
            "standoff": 15
           },
           "zerolinecolor": "white",
           "zerolinewidth": 2
          }
         }
        }
       }
      }
     },
     "metadata": {},
     "output_type": "display_data"
    }
   ],
   "source": [
    "dfpl = df[400:480]\n",
    "import plotly.graph_objects as go\n",
    "from datetime import datetime\n",
    "\n",
    "fig = go.Figure(data=[go.Candlestick(x=dfpl.index,\n",
    "                open=dfpl['open'],\n",
    "                high=dfpl['high'],\n",
    "                low=dfpl['low'],\n",
    "                close=dfpl['close'])])\n",
    "\n",
    "fig.show()"
   ]
  }
 ],
 "metadata": {
  "kernelspec": {
   "display_name": "Python 3",
   "language": "python",
   "name": "python3"
  },
  "language_info": {
   "codemirror_mode": {
    "name": "ipython",
    "version": 3
   },
   "file_extension": ".py",
   "mimetype": "text/x-python",
   "name": "python",
   "nbconvert_exporter": "python",
   "pygments_lexer": "ipython3",
   "version": "3.12.1"
  }
 },
 "nbformat": 4,
 "nbformat_minor": 2
}
