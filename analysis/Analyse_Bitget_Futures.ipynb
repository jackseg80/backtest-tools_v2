import pandas as pd
import matplotlib.pyplot as plt
import seaborn as sns

def analyze_volatility(volatility_dict: dict) -> None:
    """
    Analyze and visualize cryptocurrency volatility.
    
    Args:
        volatility_dict: Dictionary mapping cryptocurrency names to their volatility values.
    """
    if not volatility_dict:
        raise ValueError("Input volatility_dict is empty")
    
    # Create DataFrame with explicit column names
    df = pd.DataFrame(list(volatility_dict.items()), columns=['Cryptocurrency', 'Volatility'])
    
    # Sort values and handle potential NaNs
    sorted_df = df.sort_values(by='Volatility', ascending=False, na_position='last')
    
    # Check if data is valid
    if sorted_df.empty:
        print("No valid data to plot")
        return
    
    # Plot configuration
    plt.figure(figsize=(12, 7))
    sns.barplot(x='Volatility', y='Cryptocurrency', data=sorted_df, palette='viridis')
    
    # Enhanced styling
    plt.title('Cryptocurrency Volatility Analysis', fontsize=14, pad=20)
    plt.xlabel('Volatility Index', fontsize=12)
    plt.ylabel('Cryptocurrency', fontsize=12)
    plt.grid(axis='x', linestyle='--', alpha=0.7)
    
    # Show plot
    plt.tight_layout()
    plt.show()

    # Data summary
    print(f"Total cryptos analyzed: {len(sorted_df)}")
    print(f"Max volatility: {sorted_df['Volatility'].max():.2f}")
    print(f"Min volatility: {sorted_df['Volatility'].min():.2f}")

# Usage example
# analyze_volatility(your_volatility_dict_here)
