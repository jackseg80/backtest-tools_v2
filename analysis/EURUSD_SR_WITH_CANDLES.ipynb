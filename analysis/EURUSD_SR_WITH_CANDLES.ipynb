{
 "cells": [
  {
   "cell_type": "markdown",
   "metadata": {},
   "source": [
    "# Resistance/Support AND Candles Patterns"
   ]
  },
  {
   "cell_type": "code",
   "execution_count": 1,
   "metadata": {},
   "outputs": [
    {
     "data": {
      "text/html": [
       "<div>\n",
       "<style scoped>\n",
       "    .dataframe tbody tr th:only-of-type {\n",
       "        vertical-align: middle;\n",
       "    }\n",
       "\n",
       "    .dataframe tbody tr th {\n",
       "        vertical-align: top;\n",
       "    }\n",
       "\n",
       "    .dataframe thead th {\n",
       "        text-align: right;\n",
       "    }\n",
       "</style>\n",
       "<table border=\"1\" class=\"dataframe\">\n",
       "  <thead>\n",
       "    <tr style=\"text-align: right;\">\n",
       "      <th></th>\n",
       "      <th>open</th>\n",
       "      <th>high</th>\n",
       "      <th>low</th>\n",
       "      <th>close</th>\n",
       "      <th>volume</th>\n",
       "    </tr>\n",
       "  </thead>\n",
       "  <tbody>\n",
       "    <tr>\n",
       "      <th>0</th>\n",
       "      <td>301.13</td>\n",
       "      <td>312.18</td>\n",
       "      <td>298.00</td>\n",
       "      <td>302.00</td>\n",
       "      <td>7030.71034</td>\n",
       "    </tr>\n",
       "    <tr>\n",
       "      <th>1</th>\n",
       "      <td>302.00</td>\n",
       "      <td>311.79</td>\n",
       "      <td>283.94</td>\n",
       "      <td>293.96</td>\n",
       "      <td>9537.84646</td>\n",
       "    </tr>\n",
       "    <tr>\n",
       "      <th>2</th>\n",
       "      <td>293.31</td>\n",
       "      <td>299.90</td>\n",
       "      <td>278.00</td>\n",
       "      <td>290.91</td>\n",
       "      <td>2146.19773</td>\n",
       "    </tr>\n",
       "    <tr>\n",
       "      <th>3</th>\n",
       "      <td>289.41</td>\n",
       "      <td>300.53</td>\n",
       "      <td>282.85</td>\n",
       "      <td>299.10</td>\n",
       "      <td>2510.13871</td>\n",
       "    </tr>\n",
       "    <tr>\n",
       "      <th>4</th>\n",
       "      <td>299.10</td>\n",
       "      <td>346.52</td>\n",
       "      <td>294.60</td>\n",
       "      <td>323.29</td>\n",
       "      <td>5219.44542</td>\n",
       "    </tr>\n",
       "  </tbody>\n",
       "</table>\n",
       "</div>"
      ],
      "text/plain": [
       "     open    high     low   close      volume\n",
       "0  301.13  312.18  298.00  302.00  7030.71034\n",
       "1  302.00  311.79  283.94  293.96  9537.84646\n",
       "2  293.31  299.90  278.00  290.91  2146.19773\n",
       "3  289.41  300.53  282.85  299.10  2510.13871\n",
       "4  299.10  346.52  294.60  323.29  5219.44542"
      ]
     },
     "execution_count": 1,
     "metadata": {},
     "output_type": "execute_result"
    }
   ],
   "source": [
    "import sys\n",
    "sys.path.append('../')\n",
    "import pandas as pd\n",
    "from utilities.data_manager import ExchangeDataManager\n",
    "\n",
    "exchange_name = \"binance\"\n",
    "pair = \"ETH/USDT\"\n",
    "coin = pair.split('/')[0]\n",
    "tf = \"1d\"\n",
    "\n",
    "exchange = ExchangeDataManager(\n",
    "    exchange_name=exchange_name, \n",
    "    path_download=\"../database/exchanges\"\n",
    ")\n",
    "\n",
    "df = exchange.load_data(\n",
    "    coin=pair, \n",
    "    interval=tf\n",
    ")\n",
    "\n",
    "#Check if NA values are in data\n",
    "df=df[df['volume']!=0]\n",
    "df.reset_index(drop=True, inplace=True)\n",
    "df.isna().sum()\n",
    "df.head()"
   ]
  },
  {
   "cell_type": "markdown",
   "metadata": {},
   "source": [
    "# Support and Resitance FUNCTIONS"
   ]
  },
  {
   "cell_type": "code",
   "execution_count": 2,
   "metadata": {},
   "outputs": [],
   "source": [
    "def support(df1, l, n1, n2): #n1 n2 before and after candle l\n",
    "    for i in range(l-n1+1, l+1):\n",
    "        if(df1.low[i]>df1.low[i-1]):\n",
    "            return 0\n",
    "    for i in range(l+1,l+n2+1):\n",
    "        if(df1.low[i]<df1.low[i-1]):\n",
    "            return 0\n",
    "    return 1\n",
    "\n",
    "def resistance(df1, l, n1, n2): #n1 n2 before and after candle l\n",
    "    for i in range(l-n1+1, l+1):\n",
    "        if(df1.high[i]<df1.high[i-1]):\n",
    "            return 0\n",
    "    for i in range(l+1,l+n2+1):\n",
    "        if(df1.high[i]>df1.high[i-1]):\n",
    "            return 0\n",
    "    return 1"
   ]
  },
  {
   "cell_type": "code",
   "execution_count": 3,
   "metadata": {},
   "outputs": [],
   "source": [
    "length = len(df)\n",
    "high = list(df['high'])\n",
    "low = list(df['low'])\n",
    "close = list(df['close'])\n",
    "open = list(df['open'])\n",
    "bodydiff = [0] * length\n",
    "\n",
    "highdiff = [0] * length\n",
    "lowdiff = [0] * length\n",
    "ratio1 = [0] * length\n",
    "ratio2 = [0] * length\n",
    "\n",
    "def isEngulfing(l):\n",
    "    row=l\n",
    "    bodydiff[row] = abs(open[row]-close[row])\n",
    "    if bodydiff[row]<0.000001:\n",
    "        bodydiff[row]=0.000001      \n",
    "\n",
    "    bodydiffmin = 0.002\n",
    "    if (bodydiff[row]>bodydiffmin and bodydiff[row-1]>bodydiffmin and\n",
    "        open[row-1]<close[row-1] and\n",
    "        open[row]>close[row] and \n",
    "        (open[row]-close[row-1])>=-0e-5 and close[row]<open[row-1]): #+0e-5 -5e-5\n",
    "        return 1\n",
    "\n",
    "    elif(bodydiff[row]>bodydiffmin and bodydiff[row-1]>bodydiffmin and\n",
    "        open[row-1]>close[row-1] and\n",
    "        open[row]<close[row] and \n",
    "        (open[row]-close[row-1])<=+0e-5 and close[row]>open[row-1]):#-0e-5 +5e-5\n",
    "        return 2\n",
    "    else:\n",
    "        return 0\n",
    "       \n",
    "def isStar(l):\n",
    "    bodydiffmin = 0.0020\n",
    "    row=l\n",
    "    highdiff[row] = high[row]-max(open[row],close[row])\n",
    "    lowdiff[row] = min(open[row],close[row])-low[row]\n",
    "    bodydiff[row] = abs(open[row]-close[row])\n",
    "    if bodydiff[row]<0.000001:\n",
    "        bodydiff[row]=0.000001\n",
    "    ratio1[row] = highdiff[row]/bodydiff[row]\n",
    "    ratio2[row] = lowdiff[row]/bodydiff[row]\n",
    "\n",
    "    if (ratio1[row]>1 and lowdiff[row]<0.2*highdiff[row] and bodydiff[row]>bodydiffmin):# and open[row]>close[row]):\n",
    "        return 1\n",
    "    elif (ratio2[row]>1 and highdiff[row]<0.2*lowdiff[row] and bodydiff[row]>bodydiffmin):# and open[row]<close[row]):\n",
    "        return 2\n",
    "    else:\n",
    "        return 0\n",
    "    \n",
    "def closeResistance(l,levels,lim):\n",
    "    if len(levels)==0:\n",
    "        return 0\n",
    "    c1 = abs(df.high[l]-min(levels, key=lambda x:abs(x-df.high[l])))<=lim\n",
    "    c2 = abs(max(df.open[l],df.close[l])-min(levels, key=lambda x:abs(x-df.high[l])))<=lim\n",
    "    c3 = min(df.open[l],df.close[l])<min(levels, key=lambda x:abs(x-df.high[l]))\n",
    "    c4 = df.low[l]<min(levels, key=lambda x:abs(x-df.high[l]))\n",
    "    if( (c1 or c2) and c3 and c4 ):\n",
    "        return 1\n",
    "    else:\n",
    "        return 0\n",
    "    \n",
    "def closeSupport(l,levels,lim):\n",
    "    if len(levels)==0:\n",
    "        return 0\n",
    "    c1 = abs(df.low[l]-min(levels, key=lambda x:abs(x-df.low[l])))<=lim\n",
    "    c2 = abs(min(df.open[l],df.close[l])-min(levels, key=lambda x:abs(x-df.low[l])))<=lim\n",
    "    c3 = max(df.open[l],df.close[l])>min(levels, key=lambda x:abs(x-df.low[l]))\n",
    "    c4 = df.high[l]>min(levels, key=lambda x:abs(x-df.low[l]))\n",
    "    if( (c1 or c2) and c3 and c4 ):\n",
    "        return 1\n",
    "    else:\n",
    "        return 0"
   ]
  },
  {
   "cell_type": "code",
   "execution_count": 4,
   "metadata": {},
   "outputs": [],
   "source": [
    "n1=2\n",
    "n2=2\n",
    "backCandles=45\n",
    "signal = [0] * length\n",
    "\n",
    "for row in range(backCandles, len(df)-n2):\n",
    "    ss = []\n",
    "    rr = []\n",
    "    for subrow in range(row-backCandles+n1, row+1):\n",
    "        if support(df, subrow, n1, n2):\n",
    "            ss.append(df.low[subrow])\n",
    "        if resistance(df, subrow, n1, n2):\n",
    "            rr.append(df.high[subrow])\n",
    "    #!!!! parameters\n",
    "    if ((isEngulfing(row)==1 or isStar(row)==1) and closeResistance(row, rr, 150e-5) ):#and df.RSI[row]<30\n",
    "        signal[row] = 1\n",
    "    elif((isEngulfing(row)==2 or isStar(row)==2) and closeSupport(row, ss, 150e-5)):#and df.RSI[row]>70\n",
    "        signal[row] = 2\n",
    "    else:\n",
    "        signal[row] = 0\n",
    "\n"
   ]
  },
  {
   "cell_type": "code",
   "execution_count": 5,
   "metadata": {},
   "outputs": [],
   "source": [
    "df['signal']=signal"
   ]
  },
  {
   "cell_type": "code",
   "execution_count": 6,
   "metadata": {},
   "outputs": [
    {
     "data": {
      "text/plain": [
       "open      41\n",
       "high      41\n",
       "low       41\n",
       "close     41\n",
       "volume    41\n",
       "signal    41\n",
       "dtype: int64"
      ]
     },
     "execution_count": 6,
     "metadata": {},
     "output_type": "execute_result"
    }
   ],
   "source": [
    "df[df['signal']==2].count()"
   ]
  },
  {
   "cell_type": "code",
   "execution_count": 7,
   "metadata": {},
   "outputs": [],
   "source": [
    "SLTPRatio = 1.5 #TP/SL Ratio\n",
    "def mytarget(barsupfront, df1):\n",
    "    length = len(df1)\n",
    "    high = list(df1['high'])\n",
    "    low = list(df1['low'])\n",
    "    close = list(df1['close'])\n",
    "    open = list(df1['open'])\n",
    "    signal = list(df1['signal'])\n",
    "    trendcat = [0] * length\n",
    "    amount = [0] * length\n",
    "    \n",
    "    SL=0\n",
    "    TP=0\n",
    "    for line in range(backCandles, length-barsupfront-n2):\n",
    "\n",
    "        if signal[line]==1:\n",
    "            SL = max(high[line-1:line+1])#!!!!! parameters\n",
    "            TP = close[line]-SLTPRatio*(SL-close[line])\n",
    "            for i in range(1,barsupfront+1):\n",
    "                if(low[line+i]<=TP and high[line+i]>=SL):\n",
    "                    trendcat[line]=3\n",
    "                    break\n",
    "                elif (low[line+i]<=TP):\n",
    "                    trendcat[line]=1 #win trend 1 in signal 1\n",
    "                    amount[line]=close[line]-low[line+i]\n",
    "                    break\n",
    "                elif (high[line+i]>=SL):\n",
    "                    trendcat[line]=2 #loss trend 2 in signal 1\n",
    "                    amount[line]=close[line]-high[line+i]\n",
    "                    break\n",
    "\n",
    "        if signal[line]==2:\n",
    "            SL = min(low[line-1:line+1])#!!!!! parameters\n",
    "            TP = close[line]+SLTPRatio*(close[line]-SL)\n",
    "    \n",
    "            for i in range(1,barsupfront+1):\n",
    "                if(high[line+i]>=TP and low[line+i]<=SL):\n",
    "                    trendcat[line]=3\n",
    "                    break\n",
    "                elif (high[line+i]>=TP):\n",
    "                    trendcat[line]=2 #win trend 2 in signal 2\n",
    "                    amount[line]=high[line+i]-close[line]\n",
    "                    break\n",
    "                elif (low[line+i]<=SL):\n",
    "                    trendcat[line]=1 #loss trend 1 in signal 2\n",
    "                    amount[line]=low[line+i]-close[line]\n",
    "                    break\n",
    "    # return trendcat\n",
    "    return amount\n",
    "\n",
    "df['Trend'] = mytarget(16, df)\n",
    "df['Amount'] = mytarget(16, df)"
   ]
  },
  {
   "cell_type": "code",
   "execution_count": 9,
   "metadata": {},
   "outputs": [
    {
     "data": {
      "text/plain": [
       "395.5100000000002"
      ]
     },
     "execution_count": 9,
     "metadata": {},
     "output_type": "execute_result"
    }
   ],
   "source": [
    "df[df['Amount']!=0]\n",
    "df['Amount'].sum()/6"
   ]
  },
  {
   "cell_type": "code",
   "execution_count": 10,
   "metadata": {},
   "outputs": [
    {
     "name": "stdout",
     "output_type": "stream",
     "text": [
      "0.0\n"
     ]
    }
   ],
   "source": [
    "import numpy as np\n",
    "conditions = [(df['Trend'] == 1) & (df['signal'] == 1), (df['Trend'] == 2) & (df['signal'] == 2)]\n",
    "values = [1, 2]\n",
    "df['result'] = np.select(conditions, values)\n",
    "\n",
    "trendId=2\n",
    "print(df[df['result']==trendId].result.count()/df[df['signal']==trendId].signal.count())\n",
    "# df[ (df['Trend']!=trendId) & (df['Trend']!=3) & (df['signal']==trendId) ] # false positives"
   ]
  },
  {
   "cell_type": "code",
   "execution_count": null,
   "metadata": {},
   "outputs": [],
   "source": [
    "dfpl = df[600:670]\n",
    "import plotly.graph_objects as go\n",
    "from datetime import datetime\n",
    "\n",
    "fig = go.Figure(data=[go.Candlestick(x=dfpl.index,\n",
    "                open=dfpl['open'],\n",
    "                high=dfpl['high'],\n",
    "                low=dfpl['low'],\n",
    "                close=dfpl['close'])])\n",
    "\n",
    "fig.show()"
   ]
  },
  {
   "cell_type": "code",
   "execution_count": null,
   "metadata": {},
   "outputs": [],
   "source": []
  }
 ],
 "metadata": {
  "kernelspec": {
   "display_name": "Python 3",
   "language": "python",
   "name": "python3"
  },
  "language_info": {
   "codemirror_mode": {
    "name": "ipython",
    "version": 3
   },
   "file_extension": ".py",
   "mimetype": "text/x-python",
   "name": "python",
   "nbconvert_exporter": "python",
   "pygments_lexer": "ipython3",
   "version": "3.12.1"
  }
 },
 "nbformat": 4,
 "nbformat_minor": 2
}
