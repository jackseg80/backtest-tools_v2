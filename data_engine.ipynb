{
 "cells": [
  {
   "cell_type": "code",
   "execution_count": 1,
   "metadata": {},
   "outputs": [],
   "source": [
    "import sys\n",
    "sys.path.append('./')\n",
    "from utilities.data_manager import ExchangeDataManager\n",
    "import pandas as pd"
   ]
  },
  {
   "cell_type": "markdown",
   "metadata": {},
   "source": [
    "# Download Historical data into CSV in Database"
   ]
  },
  {
   "cell_type": "code",
   "execution_count": 3,
   "metadata": {},
   "outputs": [
    {
     "name": "stdout",
     "output_type": "stream",
     "text": [
      "\tRécupération pour la paire BTC/USDT:USDT en timeframe 1h sur l'exchange bitget...\n"
     ]
    },
    {
     "data": {
      "application/vnd.jupyter.widget-view+json": {
       "model_id": "ab94f75b156d4667a0c2780c3d56f6d9",
       "version_major": 2,
       "version_minor": 0
      },
      "text/plain": [
       "  0%|          | 0/1 [00:00<?, ?it/s]"
      ]
     },
     "metadata": {},
     "output_type": "display_data"
    },
    {
     "name": "stdout",
     "output_type": "stream",
     "text": [
      "\u001b[H\u001b[J\tRécupération pour la paire ETH/USDT:USDT en timeframe 1h sur l'exchange bitget...\n"
     ]
    },
    {
     "data": {
      "application/vnd.jupyter.widget-view+json": {
       "model_id": "2c81b191f9784617a07ee6b2c87df49e",
       "version_major": 2,
       "version_minor": 0
      },
      "text/plain": [
       "  0%|          | 0/1 [00:00<?, ?it/s]"
      ]
     },
     "metadata": {},
     "output_type": "display_data"
    },
    {
     "name": "stdout",
     "output_type": "stream",
     "text": [
      "\u001b[H\u001b[J\tRécupération pour la paire ADA/USDT:USDT en timeframe 1h sur l'exchange bitget...\n"
     ]
    },
    {
     "data": {
      "application/vnd.jupyter.widget-view+json": {
       "model_id": "b7106ae85f3e4d8f81d43344962d268d",
       "version_major": 2,
       "version_minor": 0
      },
      "text/plain": [
       "  0%|          | 0/1 [00:00<?, ?it/s]"
      ]
     },
     "metadata": {},
     "output_type": "display_data"
    },
    {
     "name": "stdout",
     "output_type": "stream",
     "text": [
      "\u001b[H\u001b[J\tRécupération pour la paire AVAX/USDT:USDT en timeframe 1h sur l'exchange bitget...\n"
     ]
    },
    {
     "data": {
      "application/vnd.jupyter.widget-view+json": {
       "model_id": "af857ad2cfa64ba18acc38f370127437",
       "version_major": 2,
       "version_minor": 0
      },
      "text/plain": [
       "  0%|          | 0/1 [00:00<?, ?it/s]"
      ]
     },
     "metadata": {},
     "output_type": "display_data"
    },
    {
     "name": "stdout",
     "output_type": "stream",
     "text": [
      "\u001b[H\u001b[J\tRécupération pour la paire EGLD/USDT:USDT en timeframe 1h sur l'exchange bitget...\n"
     ]
    },
    {
     "data": {
      "application/vnd.jupyter.widget-view+json": {
       "model_id": "480ef4a13d81436d860b4a73dad4e69f",
       "version_major": 2,
       "version_minor": 0
      },
      "text/plain": [
       "  0%|          | 0/1 [00:00<?, ?it/s]"
      ]
     },
     "metadata": {},
     "output_type": "display_data"
    },
    {
     "name": "stdout",
     "output_type": "stream",
     "text": [
      "\u001b[H\u001b[J\tRécupération pour la paire LINK/USDT:USDT en timeframe 1h sur l'exchange bitget...\n"
     ]
    },
    {
     "data": {
      "application/vnd.jupyter.widget-view+json": {
       "model_id": "90ed08ecefa44b0b80326e33d0af8ff0",
       "version_major": 2,
       "version_minor": 0
      },
      "text/plain": [
       "  0%|          | 0/1 [00:00<?, ?it/s]"
      ]
     },
     "metadata": {},
     "output_type": "display_data"
    },
    {
     "name": "stdout",
     "output_type": "stream",
     "text": [
      "\u001b[H\u001b[J\tRécupération pour la paire KSM/USDT:USDT en timeframe 1h sur l'exchange bitget...\n"
     ]
    },
    {
     "data": {
      "application/vnd.jupyter.widget-view+json": {
       "model_id": "97d8e0eb6a834483ac6b01dc19360fbc",
       "version_major": 2,
       "version_minor": 0
      },
      "text/plain": [
       "  0%|          | 0/1 [00:00<?, ?it/s]"
      ]
     },
     "metadata": {},
     "output_type": "display_data"
    },
    {
     "name": "stdout",
     "output_type": "stream",
     "text": [
      "\u001b[H\u001b[J\tRécupération pour la paire OCEAN/USDT:USDT en timeframe 1h sur l'exchange bitget...\n"
     ]
    },
    {
     "data": {
      "application/vnd.jupyter.widget-view+json": {
       "model_id": "e7512e17995745f3ad88f1771e7063ea",
       "version_major": 2,
       "version_minor": 0
      },
      "text/plain": [
       "  0%|          | 0/1 [00:00<?, ?it/s]"
      ]
     },
     "metadata": {},
     "output_type": "display_data"
    },
    {
     "name": "stdout",
     "output_type": "stream",
     "text": [
      "\u001b[H\u001b[J\tRécupération pour la paire REN/USDT:USDT en timeframe 1h sur l'exchange bitget...\n"
     ]
    },
    {
     "data": {
      "application/vnd.jupyter.widget-view+json": {
       "model_id": "a2d02dcc68d747e290fa131dce2b3c65",
       "version_major": 2,
       "version_minor": 0
      },
      "text/plain": [
       "  0%|          | 0/2 [00:00<?, ?it/s]"
      ]
     },
     "metadata": {},
     "output_type": "display_data"
    },
    {
     "name": "stdout",
     "output_type": "stream",
     "text": [
      "Error during download REN/USDT:USDT 1h 1705824000000 bitget does not have market symbol REN/USDT:USDT\n",
      "Error during download REN/USDT:USDT 1h 1706544000000 bitget does not have market symbol REN/USDT:USDT\n",
      "\tPas de données pour REN/USDT:USDT en 1h sur cette période\n",
      "\u001b[H\u001b[J\tRécupération pour la paire ACH/USDT:USDT en timeframe 1h sur l'exchange bitget...\n"
     ]
    },
    {
     "data": {
      "application/vnd.jupyter.widget-view+json": {
       "model_id": "26cf16c7b0d743ac8d33cc722e6e42f4",
       "version_major": 2,
       "version_minor": 0
      },
      "text/plain": [
       "  0%|          | 0/1 [00:00<?, ?it/s]"
      ]
     },
     "metadata": {},
     "output_type": "display_data"
    },
    {
     "name": "stdout",
     "output_type": "stream",
     "text": [
      "\u001b[H\u001b[J\tRécupération pour la paire APE/USDT:USDT en timeframe 1h sur l'exchange bitget...\n"
     ]
    },
    {
     "data": {
      "application/vnd.jupyter.widget-view+json": {
       "model_id": "80ef0340e4eb42c98a7ec243c7bae33f",
       "version_major": 2,
       "version_minor": 0
      },
      "text/plain": [
       "  0%|          | 0/1 [00:00<?, ?it/s]"
      ]
     },
     "metadata": {},
     "output_type": "display_data"
    },
    {
     "name": "stdout",
     "output_type": "stream",
     "text": [
      "\u001b[H\u001b[J\tRécupération pour la paire CRV/USDT:USDT en timeframe 1h sur l'exchange bitget...\n"
     ]
    },
    {
     "data": {
      "application/vnd.jupyter.widget-view+json": {
       "model_id": "0794ab71058a4dcabeeb356341fa118b",
       "version_major": 2,
       "version_minor": 0
      },
      "text/plain": [
       "  0%|          | 0/1 [00:00<?, ?it/s]"
      ]
     },
     "metadata": {},
     "output_type": "display_data"
    },
    {
     "name": "stdout",
     "output_type": "stream",
     "text": [
      "\u001b[H\u001b[J\tRécupération pour la paire DOGE/USDT:USDT en timeframe 1h sur l'exchange bitget...\n"
     ]
    },
    {
     "data": {
      "application/vnd.jupyter.widget-view+json": {
       "model_id": "f977f4160c864055a71e94c6a94c7423",
       "version_major": 2,
       "version_minor": 0
      },
      "text/plain": [
       "  0%|          | 0/1 [00:00<?, ?it/s]"
      ]
     },
     "metadata": {},
     "output_type": "display_data"
    },
    {
     "name": "stdout",
     "output_type": "stream",
     "text": [
      "\u001b[H\u001b[J\tRécupération pour la paire ENJ/USDT:USDT en timeframe 1h sur l'exchange bitget...\n"
     ]
    },
    {
     "data": {
      "application/vnd.jupyter.widget-view+json": {
       "model_id": "3fb2561ddd114cb6aa46ac58baf9f502",
       "version_major": 2,
       "version_minor": 0
      },
      "text/plain": [
       "  0%|          | 0/1 [00:00<?, ?it/s]"
      ]
     },
     "metadata": {},
     "output_type": "display_data"
    },
    {
     "name": "stdout",
     "output_type": "stream",
     "text": [
      "\u001b[H\u001b[J\tRécupération pour la paire FET/USDT:USDT en timeframe 1h sur l'exchange bitget...\n"
     ]
    },
    {
     "data": {
      "application/vnd.jupyter.widget-view+json": {
       "model_id": "b2565a31e76247ab841639f3191d05e1",
       "version_major": 2,
       "version_minor": 0
      },
      "text/plain": [
       "  0%|          | 0/1 [00:00<?, ?it/s]"
      ]
     },
     "metadata": {},
     "output_type": "display_data"
    },
    {
     "name": "stdout",
     "output_type": "stream",
     "text": [
      "\u001b[H\u001b[J\tRécupération pour la paire ICP/USDT:USDT en timeframe 1h sur l'exchange bitget...\n"
     ]
    },
    {
     "data": {
      "application/vnd.jupyter.widget-view+json": {
       "model_id": "af4228d35c2c4865a8245641c0291541",
       "version_major": 2,
       "version_minor": 0
      },
      "text/plain": [
       "  0%|          | 0/1 [00:00<?, ?it/s]"
      ]
     },
     "metadata": {},
     "output_type": "display_data"
    },
    {
     "name": "stdout",
     "output_type": "stream",
     "text": [
      "\u001b[H\u001b[J\tRécupération pour la paire IMX/USDT:USDT en timeframe 1h sur l'exchange bitget...\n"
     ]
    },
    {
     "data": {
      "application/vnd.jupyter.widget-view+json": {
       "model_id": "4c755449f2474a26a9d3305c926ec380",
       "version_major": 2,
       "version_minor": 0
      },
      "text/plain": [
       "  0%|          | 0/1 [00:00<?, ?it/s]"
      ]
     },
     "metadata": {},
     "output_type": "display_data"
    },
    {
     "name": "stdout",
     "output_type": "stream",
     "text": [
      "\u001b[H\u001b[J\tRécupération pour la paire LDO/USDT:USDT en timeframe 1h sur l'exchange bitget...\n"
     ]
    },
    {
     "data": {
      "application/vnd.jupyter.widget-view+json": {
       "model_id": "5436ad4047e84fff864853bddab0d56f",
       "version_major": 2,
       "version_minor": 0
      },
      "text/plain": [
       "  0%|          | 0/1 [00:00<?, ?it/s]"
      ]
     },
     "metadata": {},
     "output_type": "display_data"
    },
    {
     "name": "stdout",
     "output_type": "stream",
     "text": [
      "\u001b[H\u001b[J\tRécupération pour la paire MAGIC/USDT:USDT en timeframe 1h sur l'exchange bitget...\n"
     ]
    },
    {
     "data": {
      "application/vnd.jupyter.widget-view+json": {
       "model_id": "14114996c9ea40ab92ed23c61099ccb8",
       "version_major": 2,
       "version_minor": 0
      },
      "text/plain": [
       "  0%|          | 0/1 [00:00<?, ?it/s]"
      ]
     },
     "metadata": {},
     "output_type": "display_data"
    },
    {
     "name": "stdout",
     "output_type": "stream",
     "text": [
      "\u001b[H\u001b[J\tRécupération pour la paire REEF/USDT:USDT en timeframe 1h sur l'exchange bitget...\n"
     ]
    },
    {
     "data": {
      "application/vnd.jupyter.widget-view+json": {
       "model_id": "5356ca4c562f4c94bc2d33f8904c7f12",
       "version_major": 2,
       "version_minor": 0
      },
      "text/plain": [
       "  0%|          | 0/1 [00:00<?, ?it/s]"
      ]
     },
     "metadata": {},
     "output_type": "display_data"
    },
    {
     "name": "stdout",
     "output_type": "stream",
     "text": [
      "\u001b[H\u001b[J\tRécupération pour la paire SAND/USDT:USDT en timeframe 1h sur l'exchange bitget...\n"
     ]
    },
    {
     "data": {
      "application/vnd.jupyter.widget-view+json": {
       "model_id": "9d42019a10f34baa93bfac3c37f2f326",
       "version_major": 2,
       "version_minor": 0
      },
      "text/plain": [
       "  0%|          | 0/1 [00:00<?, ?it/s]"
      ]
     },
     "metadata": {},
     "output_type": "display_data"
    },
    {
     "name": "stdout",
     "output_type": "stream",
     "text": [
      "\u001b[H\u001b[J\tRécupération pour la paire SOL/USDT:USDT en timeframe 1h sur l'exchange bitget...\n"
     ]
    },
    {
     "data": {
      "application/vnd.jupyter.widget-view+json": {
       "model_id": "7e2ee0be6f024159838f33df67b5d58c",
       "version_major": 2,
       "version_minor": 0
      },
      "text/plain": [
       "  0%|          | 0/1 [00:00<?, ?it/s]"
      ]
     },
     "metadata": {},
     "output_type": "display_data"
    },
    {
     "name": "stdout",
     "output_type": "stream",
     "text": [
      "\u001b[H\u001b[J\tRécupération pour la paire SUSHI/USDT:USDT en timeframe 1h sur l'exchange bitget...\n"
     ]
    },
    {
     "data": {
      "application/vnd.jupyter.widget-view+json": {
       "model_id": "4be5e5f6a53749e3a2c4d5573884b64f",
       "version_major": 2,
       "version_minor": 0
      },
      "text/plain": [
       "  0%|          | 0/311 [00:00<?, ?it/s]"
      ]
     },
     "metadata": {},
     "output_type": "display_data"
    },
    {
     "name": "stdout",
     "output_type": "stream",
     "text": [
      "\u001b[H\u001b[J\tRécupération pour la paire TRX/USDT:USDT en timeframe 1h sur l'exchange bitget...\n"
     ]
    },
    {
     "data": {
      "application/vnd.jupyter.widget-view+json": {
       "model_id": "d62d0c7ca44f472397fb5c8814be74eb",
       "version_major": 2,
       "version_minor": 0
      },
      "text/plain": [
       "  0%|          | 0/1 [00:00<?, ?it/s]"
      ]
     },
     "metadata": {},
     "output_type": "display_data"
    },
    {
     "name": "stdout",
     "output_type": "stream",
     "text": [
      "\u001b[H\u001b[J\tRécupération pour la paire XRP/USDT:USDT en timeframe 1h sur l'exchange bitget...\n"
     ]
    },
    {
     "data": {
      "application/vnd.jupyter.widget-view+json": {
       "model_id": "14e79c0b204a4c7896ab8381f5b9ebb3",
       "version_major": 2,
       "version_minor": 0
      },
      "text/plain": [
       "  0%|          | 0/1 [00:00<?, ?it/s]"
      ]
     },
     "metadata": {},
     "output_type": "display_data"
    },
    {
     "name": "stdout",
     "output_type": "stream",
     "text": [
      "\u001b[H\u001b[J\tRécupération pour la paire XTZ/USDT:USDT en timeframe 1h sur l'exchange bitget...\n"
     ]
    },
    {
     "data": {
      "application/vnd.jupyter.widget-view+json": {
       "model_id": "a94bc40d24e04ee7b1088f04475a9907",
       "version_major": 2,
       "version_minor": 0
      },
      "text/plain": [
       "  0%|          | 0/1 [00:00<?, ?it/s]"
      ]
     },
     "metadata": {},
     "output_type": "display_data"
    },
    {
     "name": "stdout",
     "output_type": "stream",
     "text": [
      "\u001b[H\u001b[J"
     ]
    }
   ],
   "source": [
    "# exchange_name = \"binance\"\n",
    "exchange_name = \"bitget\"\n",
    "\n",
    "intervals = [\"1h\"]\n",
    "\n",
    "coin_to_dl = [\n",
    "    \"BTC/USDT:USDT\", \"ETH/USDT:USDT\", \"ADA/USDT:USDT\", \"AVAX/USDT:USDT\", \"EGLD/USDT:USDT\", \"LINK/USDT:USDT\",\n",
    "    \"KSM/USDT:USDT\", \"OCEAN/USDT:USDT\", \"REN/USDT:USDT\", \"ACH/USDT:USDT\", \"APE/USDT:USDT\",\n",
    "    \"CRV/USDT:USDT\", \"DOGE/USDT:USDT\", \"ENJ/USDT:USDT\", \"FET/USDT:USDT\", \"ICP/USDT:USDT\",\n",
    "    \"IMX/USDT:USDT\", \"LDO/USDT:USDT\", \"MAGIC/USDT:USDT\", \"REEF/USDT:USDT\", \"SAND/USDT:USDT\", \"SOL/USDT:USDT\",\n",
    "    \"SUSHI/USDT:USDT\", \"TRX/USDT:USDT\", \"XRP/USDT:USDT\", \"XTZ/USDT:USDT\",\n",
    "]\n",
    "\n",
    "# coin_to_dl = [\n",
    "#     \"BTC/USDT\", \"ETH/USDT\", \"ADA/USDT\", \"AVAX/USDT\", \"EGLD/USDT\", \"LINK/USDT:USDT\",\n",
    "#     \"KSM/USDT\", \"OCEAN/USDT\", \"REN/USDT\", \"ACH/USDT\", \"APE/USDT\",\n",
    "#     \"CRV/USDT\", \"DOGE/USDT\", \"ENJ/USDT\", \"FET/USDT\", \"ICP/USDT\",\n",
    "#     \"IMX/USDT\", \"LDO/USDT\", \"MAGIC/USDT\", \"REEF/USDT\", \"SAND/USDT\", \"SOL/USDT\",\n",
    "#     \"SUSHI/USDT:USDT\", \"TRX/USDT\",\"XTZ/USDT\",\n",
    "# ]\n",
    "\n",
    "exchange = ExchangeDataManager(\n",
    "    exchange_name=exchange_name, path_download=\"./database/exchanges\"\n",
    ")\n",
    "\n",
    "await exchange.download_data(\n",
    "    coins=coin_to_dl,\n",
    "    intervals=intervals,\n",
    ")"
   ]
  },
  {
   "cell_type": "markdown",
   "metadata": {},
   "source": [
    "# Get Historical Data From Database"
   ]
  },
  {
   "cell_type": "code",
   "execution_count": 3,
   "metadata": {},
   "outputs": [
    {
     "data": {
      "text/html": [
       "<div>\n",
       "<style scoped>\n",
       "    .dataframe tbody tr th:only-of-type {\n",
       "        vertical-align: middle;\n",
       "    }\n",
       "\n",
       "    .dataframe tbody tr th {\n",
       "        vertical-align: top;\n",
       "    }\n",
       "\n",
       "    .dataframe thead th {\n",
       "        text-align: right;\n",
       "    }\n",
       "</style>\n",
       "<table border=\"1\" class=\"dataframe\">\n",
       "  <thead>\n",
       "    <tr style=\"text-align: right;\">\n",
       "      <th></th>\n",
       "      <th>open</th>\n",
       "      <th>high</th>\n",
       "      <th>low</th>\n",
       "      <th>close</th>\n",
       "      <th>volume</th>\n",
       "    </tr>\n",
       "    <tr>\n",
       "      <th>date</th>\n",
       "      <th></th>\n",
       "      <th></th>\n",
       "      <th></th>\n",
       "      <th></th>\n",
       "      <th></th>\n",
       "    </tr>\n",
       "  </thead>\n",
       "  <tbody>\n",
       "    <tr>\n",
       "      <th>2019-07-10 11:00:00</th>\n",
       "      <td>13073.5</td>\n",
       "      <td>13075.5</td>\n",
       "      <td>13044.5</td>\n",
       "      <td>13064.5</td>\n",
       "      <td>4.8952</td>\n",
       "    </tr>\n",
       "    <tr>\n",
       "      <th>2019-07-10 12:00:00</th>\n",
       "      <td>13064.5</td>\n",
       "      <td>13064.5</td>\n",
       "      <td>12900.5</td>\n",
       "      <td>13029.0</td>\n",
       "      <td>684.5329</td>\n",
       "    </tr>\n",
       "    <tr>\n",
       "      <th>2019-07-10 13:00:00</th>\n",
       "      <td>13029.0</td>\n",
       "      <td>13127.5</td>\n",
       "      <td>12996.5</td>\n",
       "      <td>13039.5</td>\n",
       "      <td>812.2584</td>\n",
       "    </tr>\n",
       "    <tr>\n",
       "      <th>2019-07-10 14:00:00</th>\n",
       "      <td>13039.5</td>\n",
       "      <td>13065.5</td>\n",
       "      <td>12549.5</td>\n",
       "      <td>12549.5</td>\n",
       "      <td>679.7040</td>\n",
       "    </tr>\n",
       "    <tr>\n",
       "      <th>2019-07-10 15:00:00</th>\n",
       "      <td>12549.5</td>\n",
       "      <td>12552.0</td>\n",
       "      <td>12121.0</td>\n",
       "      <td>12362.0</td>\n",
       "      <td>715.6550</td>\n",
       "    </tr>\n",
       "    <tr>\n",
       "      <th>...</th>\n",
       "      <td>...</td>\n",
       "      <td>...</td>\n",
       "      <td>...</td>\n",
       "      <td>...</td>\n",
       "      <td>...</td>\n",
       "    </tr>\n",
       "    <tr>\n",
       "      <th>2024-01-05 05:00:00</th>\n",
       "      <td>43581.8</td>\n",
       "      <td>43715.7</td>\n",
       "      <td>43503.0</td>\n",
       "      <td>43638.6</td>\n",
       "      <td>6817.8090</td>\n",
       "    </tr>\n",
       "    <tr>\n",
       "      <th>2024-01-05 06:00:00</th>\n",
       "      <td>43638.6</td>\n",
       "      <td>43920.0</td>\n",
       "      <td>43558.9</td>\n",
       "      <td>43836.3</td>\n",
       "      <td>6479.0860</td>\n",
       "    </tr>\n",
       "    <tr>\n",
       "      <th>2024-01-05 07:00:00</th>\n",
       "      <td>43836.3</td>\n",
       "      <td>43915.5</td>\n",
       "      <td>43712.0</td>\n",
       "      <td>43759.3</td>\n",
       "      <td>6653.7100</td>\n",
       "    </tr>\n",
       "    <tr>\n",
       "      <th>2024-01-05 08:00:00</th>\n",
       "      <td>43759.3</td>\n",
       "      <td>43936.1</td>\n",
       "      <td>43747.5</td>\n",
       "      <td>43898.0</td>\n",
       "      <td>7592.9150</td>\n",
       "    </tr>\n",
       "    <tr>\n",
       "      <th>2024-01-05 09:00:00</th>\n",
       "      <td>43898.0</td>\n",
       "      <td>44321.3</td>\n",
       "      <td>43898.0</td>\n",
       "      <td>44136.2</td>\n",
       "      <td>8836.7040</td>\n",
       "    </tr>\n",
       "  </tbody>\n",
       "</table>\n",
       "<p>39359 rows × 5 columns</p>\n",
       "</div>"
      ],
      "text/plain": [
       "                        open     high      low    close     volume\n",
       "date                                                              \n",
       "2019-07-10 11:00:00  13073.5  13075.5  13044.5  13064.5     4.8952\n",
       "2019-07-10 12:00:00  13064.5  13064.5  12900.5  13029.0   684.5329\n",
       "2019-07-10 13:00:00  13029.0  13127.5  12996.5  13039.5   812.2584\n",
       "2019-07-10 14:00:00  13039.5  13065.5  12549.5  12549.5   679.7040\n",
       "2019-07-10 15:00:00  12549.5  12552.0  12121.0  12362.0   715.6550\n",
       "...                      ...      ...      ...      ...        ...\n",
       "2024-01-05 05:00:00  43581.8  43715.7  43503.0  43638.6  6817.8090\n",
       "2024-01-05 06:00:00  43638.6  43920.0  43558.9  43836.3  6479.0860\n",
       "2024-01-05 07:00:00  43836.3  43915.5  43712.0  43759.3  6653.7100\n",
       "2024-01-05 08:00:00  43759.3  43936.1  43747.5  43898.0  7592.9150\n",
       "2024-01-05 09:00:00  43898.0  44321.3  43898.0  44136.2  8836.7040\n",
       "\n",
       "[39359 rows x 5 columns]"
      ]
     },
     "execution_count": 3,
     "metadata": {},
     "output_type": "execute_result"
    }
   ],
   "source": [
    "exchange_name = \"bitget\"\n",
    "\n",
    "exchange = ExchangeDataManager(\n",
    "    exchange_name=exchange_name, \n",
    "    path_download=\"./database/exchanges\"\n",
    ")\n",
    "\n",
    "df = exchange.load_data(\n",
    "    coin=\"BTC/USDT:USDT\", \n",
    "    interval=\"1h\"\n",
    ")\n",
    "\n",
    "df"
   ]
  },
  {
   "cell_type": "code",
   "execution_count": 4,
   "metadata": {},
   "outputs": [
    {
     "data": {
      "text/html": [
       "<div>\n",
       "<style scoped>\n",
       "    .dataframe tbody tr th:only-of-type {\n",
       "        vertical-align: middle;\n",
       "    }\n",
       "\n",
       "    .dataframe tbody tr th {\n",
       "        vertical-align: top;\n",
       "    }\n",
       "\n",
       "    .dataframe thead th {\n",
       "        text-align: right;\n",
       "    }\n",
       "</style>\n",
       "<table border=\"1\" class=\"dataframe\">\n",
       "  <thead>\n",
       "    <tr style=\"text-align: right;\">\n",
       "      <th></th>\n",
       "      <th>exchange</th>\n",
       "      <th>timeframe</th>\n",
       "      <th>pair</th>\n",
       "      <th>occurences</th>\n",
       "      <th>start_date</th>\n",
       "      <th>end_date</th>\n",
       "    </tr>\n",
       "  </thead>\n",
       "  <tbody>\n",
       "    <tr>\n",
       "      <th>0</th>\n",
       "      <td>bitget</td>\n",
       "      <td>1h</td>\n",
       "      <td>ACH-USDT-USDT</td>\n",
       "      <td>9051</td>\n",
       "      <td>2023-02-28 09:00:00</td>\n",
       "      <td>2024-01-05 11:00:00</td>\n",
       "    </tr>\n",
       "    <tr>\n",
       "      <th>1</th>\n",
       "      <td>bitget</td>\n",
       "      <td>1h</td>\n",
       "      <td>ADA-USDT-USDT</td>\n",
       "      <td>31203</td>\n",
       "      <td>2020-08-19 10:00:00</td>\n",
       "      <td>2024-01-05 11:00:00</td>\n",
       "    </tr>\n",
       "    <tr>\n",
       "      <th>2</th>\n",
       "      <td>bitget</td>\n",
       "      <td>1h</td>\n",
       "      <td>APE-USDT-USDT</td>\n",
       "      <td>16872</td>\n",
       "      <td>2022-04-08 13:00:00</td>\n",
       "      <td>2024-01-05 11:00:00</td>\n",
       "    </tr>\n",
       "    <tr>\n",
       "      <th>3</th>\n",
       "      <td>bitget</td>\n",
       "      <td>1h</td>\n",
       "      <td>AVAX-USDT-USDT</td>\n",
       "      <td>21465</td>\n",
       "      <td>2021-09-29 04:00:00</td>\n",
       "      <td>2024-01-05 11:00:00</td>\n",
       "    </tr>\n",
       "    <tr>\n",
       "      <th>4</th>\n",
       "      <td>bitget</td>\n",
       "      <td>1h</td>\n",
       "      <td>BTC-USDT-USDT</td>\n",
       "      <td>40944</td>\n",
       "      <td>2019-07-10 13:00:00</td>\n",
       "      <td>2024-01-05 11:00:00</td>\n",
       "    </tr>\n",
       "    <tr>\n",
       "      <th>5</th>\n",
       "      <td>bitget</td>\n",
       "      <td>1h</td>\n",
       "      <td>CRV-USDT-USDT</td>\n",
       "      <td>19588</td>\n",
       "      <td>2021-12-16 08:00:00</td>\n",
       "      <td>2024-01-05 11:00:00</td>\n",
       "    </tr>\n",
       "    <tr>\n",
       "      <th>6</th>\n",
       "      <td>bitget</td>\n",
       "      <td>1h</td>\n",
       "      <td>DOGE-USDT-USDT</td>\n",
       "      <td>24605</td>\n",
       "      <td>2021-05-21 08:00:00</td>\n",
       "      <td>2024-01-05 11:00:00</td>\n",
       "    </tr>\n",
       "    <tr>\n",
       "      <th>7</th>\n",
       "      <td>bitget</td>\n",
       "      <td>1h</td>\n",
       "      <td>EGLD-USDT-USDT</td>\n",
       "      <td>19419</td>\n",
       "      <td>2021-12-23 09:00:00</td>\n",
       "      <td>2024-01-05 11:00:00</td>\n",
       "    </tr>\n",
       "    <tr>\n",
       "      <th>8</th>\n",
       "      <td>bitget</td>\n",
       "      <td>1h</td>\n",
       "      <td>ENJ-USDT-USDT</td>\n",
       "      <td>17546</td>\n",
       "      <td>2022-03-11 10:00:00</td>\n",
       "      <td>2024-01-05 11:00:00</td>\n",
       "    </tr>\n",
       "    <tr>\n",
       "      <th>9</th>\n",
       "      <td>bitget</td>\n",
       "      <td>1h</td>\n",
       "      <td>ETH-USDT-USDT</td>\n",
       "      <td>40204</td>\n",
       "      <td>2019-08-10 09:00:00</td>\n",
       "      <td>2024-01-05 11:00:00</td>\n",
       "    </tr>\n",
       "    <tr>\n",
       "      <th>10</th>\n",
       "      <td>bitget</td>\n",
       "      <td>1h</td>\n",
       "      <td>FET-USDT-USDT</td>\n",
       "      <td>9003</td>\n",
       "      <td>2023-03-02 09:00:00</td>\n",
       "      <td>2024-01-05 11:00:00</td>\n",
       "    </tr>\n",
       "    <tr>\n",
       "      <th>11</th>\n",
       "      <td>bitget</td>\n",
       "      <td>1h</td>\n",
       "      <td>ICP-USDT-USDT</td>\n",
       "      <td>24484</td>\n",
       "      <td>2021-05-26 09:00:00</td>\n",
       "      <td>2024-01-05 11:00:00</td>\n",
       "    </tr>\n",
       "    <tr>\n",
       "      <th>12</th>\n",
       "      <td>bitget</td>\n",
       "      <td>1h</td>\n",
       "      <td>IMX-USDT-USDT</td>\n",
       "      <td>14689</td>\n",
       "      <td>2022-07-08 12:00:00</td>\n",
       "      <td>2024-01-05 11:00:00</td>\n",
       "    </tr>\n",
       "    <tr>\n",
       "      <th>13</th>\n",
       "      <td>bitget</td>\n",
       "      <td>1h</td>\n",
       "      <td>KSM-USDT-USDT</td>\n",
       "      <td>19274</td>\n",
       "      <td>2021-12-29 10:00:00</td>\n",
       "      <td>2024-01-05 11:00:00</td>\n",
       "    </tr>\n",
       "    <tr>\n",
       "      <th>14</th>\n",
       "      <td>bitget</td>\n",
       "      <td>1h</td>\n",
       "      <td>LDO-USDT-USDT</td>\n",
       "      <td>9334</td>\n",
       "      <td>2023-02-16 14:00:00</td>\n",
       "      <td>2024-01-05 11:00:00</td>\n",
       "    </tr>\n",
       "    <tr>\n",
       "      <th>15</th>\n",
       "      <td>bitget</td>\n",
       "      <td>1h</td>\n",
       "      <td>MAGIC-USDT-USDT</td>\n",
       "      <td>9581</td>\n",
       "      <td>2023-02-06 07:00:00</td>\n",
       "      <td>2024-01-05 11:00:00</td>\n",
       "    </tr>\n",
       "    <tr>\n",
       "      <th>16</th>\n",
       "      <td>bitget</td>\n",
       "      <td>1h</td>\n",
       "      <td>OCEAN-USDT-USDT</td>\n",
       "      <td>9334</td>\n",
       "      <td>2023-02-16 14:00:00</td>\n",
       "      <td>2024-01-05 11:00:00</td>\n",
       "    </tr>\n",
       "    <tr>\n",
       "      <th>17</th>\n",
       "      <td>bitget</td>\n",
       "      <td>1h</td>\n",
       "      <td>REEF-USDT-USDT</td>\n",
       "      <td>14184</td>\n",
       "      <td>2022-07-29 13:00:00</td>\n",
       "      <td>2024-01-05 11:00:00</td>\n",
       "    </tr>\n",
       "    <tr>\n",
       "      <th>18</th>\n",
       "      <td>bitget</td>\n",
       "      <td>1h</td>\n",
       "      <td>REN-USDT-USDT</td>\n",
       "      <td>18984</td>\n",
       "      <td>2022-01-10 12:00:00</td>\n",
       "      <td>2024-01-05 11:00:00</td>\n",
       "    </tr>\n",
       "    <tr>\n",
       "      <th>19</th>\n",
       "      <td>bitget</td>\n",
       "      <td>1h</td>\n",
       "      <td>SAND-USDT-USDT</td>\n",
       "      <td>19777</td>\n",
       "      <td>2021-12-08 11:00:00</td>\n",
       "      <td>2024-01-05 11:00:00</td>\n",
       "    </tr>\n",
       "    <tr>\n",
       "      <th>20</th>\n",
       "      <td>bitget</td>\n",
       "      <td>1h</td>\n",
       "      <td>TRX-USDT-USDT</td>\n",
       "      <td>30791</td>\n",
       "      <td>2020-08-28 08:00:00</td>\n",
       "      <td>2024-01-05 11:00:00</td>\n",
       "    </tr>\n",
       "    <tr>\n",
       "      <th>21</th>\n",
       "      <td>bitget</td>\n",
       "      <td>1h</td>\n",
       "      <td>XTZ-USDT-USDT</td>\n",
       "      <td>30382</td>\n",
       "      <td>2020-09-14 09:00:00</td>\n",
       "      <td>2024-01-05 11:00:00</td>\n",
       "    </tr>\n",
       "  </tbody>\n",
       "</table>\n",
       "</div>"
      ],
      "text/plain": [
       "   exchange timeframe             pair  occurences           start_date  \\\n",
       "0    bitget        1h    ACH-USDT-USDT        9051  2023-02-28 09:00:00   \n",
       "1    bitget        1h    ADA-USDT-USDT       31203  2020-08-19 10:00:00   \n",
       "2    bitget        1h    APE-USDT-USDT       16872  2022-04-08 13:00:00   \n",
       "3    bitget        1h   AVAX-USDT-USDT       21465  2021-09-29 04:00:00   \n",
       "4    bitget        1h    BTC-USDT-USDT       40944  2019-07-10 13:00:00   \n",
       "5    bitget        1h    CRV-USDT-USDT       19588  2021-12-16 08:00:00   \n",
       "6    bitget        1h   DOGE-USDT-USDT       24605  2021-05-21 08:00:00   \n",
       "7    bitget        1h   EGLD-USDT-USDT       19419  2021-12-23 09:00:00   \n",
       "8    bitget        1h    ENJ-USDT-USDT       17546  2022-03-11 10:00:00   \n",
       "9    bitget        1h    ETH-USDT-USDT       40204  2019-08-10 09:00:00   \n",
       "10   bitget        1h    FET-USDT-USDT        9003  2023-03-02 09:00:00   \n",
       "11   bitget        1h    ICP-USDT-USDT       24484  2021-05-26 09:00:00   \n",
       "12   bitget        1h    IMX-USDT-USDT       14689  2022-07-08 12:00:00   \n",
       "13   bitget        1h    KSM-USDT-USDT       19274  2021-12-29 10:00:00   \n",
       "14   bitget        1h    LDO-USDT-USDT        9334  2023-02-16 14:00:00   \n",
       "15   bitget        1h  MAGIC-USDT-USDT        9581  2023-02-06 07:00:00   \n",
       "16   bitget        1h  OCEAN-USDT-USDT        9334  2023-02-16 14:00:00   \n",
       "17   bitget        1h   REEF-USDT-USDT       14184  2022-07-29 13:00:00   \n",
       "18   bitget        1h    REN-USDT-USDT       18984  2022-01-10 12:00:00   \n",
       "19   bitget        1h   SAND-USDT-USDT       19777  2021-12-08 11:00:00   \n",
       "20   bitget        1h    TRX-USDT-USDT       30791  2020-08-28 08:00:00   \n",
       "21   bitget        1h    XTZ-USDT-USDT       30382  2020-09-14 09:00:00   \n",
       "\n",
       "               end_date  \n",
       "0   2024-01-05 11:00:00  \n",
       "1   2024-01-05 11:00:00  \n",
       "2   2024-01-05 11:00:00  \n",
       "3   2024-01-05 11:00:00  \n",
       "4   2024-01-05 11:00:00  \n",
       "5   2024-01-05 11:00:00  \n",
       "6   2024-01-05 11:00:00  \n",
       "7   2024-01-05 11:00:00  \n",
       "8   2024-01-05 11:00:00  \n",
       "9   2024-01-05 11:00:00  \n",
       "10  2024-01-05 11:00:00  \n",
       "11  2024-01-05 11:00:00  \n",
       "12  2024-01-05 11:00:00  \n",
       "13  2024-01-05 11:00:00  \n",
       "14  2024-01-05 11:00:00  \n",
       "15  2024-01-05 11:00:00  \n",
       "16  2024-01-05 11:00:00  \n",
       "17  2024-01-05 11:00:00  \n",
       "18  2024-01-05 11:00:00  \n",
       "19  2024-01-05 11:00:00  \n",
       "20  2024-01-05 11:00:00  \n",
       "21  2024-01-05 11:00:00  "
      ]
     },
     "execution_count": 4,
     "metadata": {},
     "output_type": "execute_result"
    }
   ],
   "source": [
    "exchange.explore_data()"
   ]
  }
 ],
 "metadata": {
  "kernelspec": {
   "display_name": "Python 3.10.2 ('.venv': venv)",
   "language": "python",
   "name": "python3"
  },
  "language_info": {
   "codemirror_mode": {
    "name": "ipython",
    "version": 3
   },
   "file_extension": ".py",
   "mimetype": "text/x-python",
   "name": "python",
   "nbconvert_exporter": "python",
   "pygments_lexer": "ipython3",
   "version": "3.12.1"
  },
  "vscode": {
   "interpreter": {
    "hash": "d5100c10c6b669a578e86ed43dbb636d25e3c9fb9ee424ec9e5e4bad34e2e434"
   }
  }
 },
 "nbformat": 4,
 "nbformat_minor": 2
}
