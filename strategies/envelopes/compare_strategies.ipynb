{
 "cells": [
  {
   "cell_type": "markdown",
   "metadata": {},
   "source": [
    "# Comparaison Multi-Stratégies : Fixed vs Adaptive\n",
    "\n",
    "Ce notebook permet de comparer plusieurs configurations de la stratégie Envelope :\n",
    "- **Baseline** : Paramètres fixes (configuration actuelle)\n",
    "- **Regime Adaptive** : Adaptation selon le régime de marché (BULL/BEAR/RECOVERY)\n",
    "- **Custom** : Vos propres adaptations\n",
    "\n",
    "Le système génère automatiquement un rapport comparatif avec recommandation."
   ]
  },
  {
   "cell_type": "markdown",
   "metadata": {},
   "source": [
    "## 1️⃣ Configuration et chargement des données"
   ]
  },
  {
   "cell_type": "code",
   "execution_count": 1,
   "metadata": {},
   "outputs": [
    {
     "name": "stderr",
     "output_type": "stream",
     "text": [
      "c:\\Users\\jacks\\AppData\\Local\\Programs\\Python\\Python313\\Lib\\site-packages\\tqdm\\auto.py:21: TqdmWarning: IProgress not found. Please update jupyter and ipywidgets. See https://ipywidgets.readthedocs.io/en/stable/user_install.html\n",
      "  from .autonotebook import tqdm as notebook_tqdm\n"
     ]
    }
   ],
   "source": [
    "import sys\n",
    "sys.path.append('../..')\n",
    "\n",
    "import pandas as pd\n",
    "import numpy as np\n",
    "from datetime import datetime, timedelta\n",
    "\n",
    "# Backtest engine\n",
    "from utilities.strategies.envelopeMulti_v2 import EnvelopeMulti_v2\n",
    "from utilities.data_manager import ExchangeDataManager\n",
    "\n",
    "# Système adaptatif\n",
    "from core import calculate_regime_series, DEFAULT_PARAMS\n",
    "from core.params_adapter import FixedParamsAdapter, RegimeBasedAdapter\n",
    "from core.backtest_comparator import BacktestComparator"
   ]
  },
  {
   "cell_type": "code",
   "execution_count": null,
   "metadata": {},
   "outputs": [
    {
     "name": "stdout",
     "output_type": "stream",
     "text": [
      "✅ Configuration chargée\n",
      "   Paires: 8 (échantillon stratifié)\n",
      "   - Majors: 2\n",
      "   - Mid-caps: 3\n",
      "   - Volatiles: 2\n",
      "   - Low performers: 1\n",
      "   Période: 2020-01-01 → 2024-12-31 (BULL 2020-21, BEAR 2022, BULL 2023-24)\n",
      "   Leverage: 10x\n"
     ]
    }
   ],
   "source": [
    "# Configuration du backtest\n",
    "BACKTEST_LEVERAGE = 10\n",
    "START_DATE = \"2020-01-01\"  # Couvre tous les cycles: BULL 2020-2021, BEAR 2022, BULL 2023-2024\n",
    "END_DATE = \"2025-10-03\"\n",
    "\n",
    "# Échantillon stratifié de 8 paires représentatives\n",
    "# (au lieu de 3 pour couvrir différents profils de marché)\n",
    "params_live = {\n",
    "    # Majors (faible volatilité, référence marché)\n",
    "    \"BTC/USDT:USDT\": {\"size\": 0.1, \"ma_base_window\": 7, \"envelopes\": [0.07, 0.1, 0.15]},\n",
    "    \"ETH/USDT:USDT\": {\"size\": 0.1, \"ma_base_window\": 7, \"envelopes\": [0.07, 0.1, 0.15]},\n",
    "    \n",
    "    # Mid-caps (volatilité moyenne)\n",
    "    \"SOL/USDT:USDT\": {\"size\": 0.1, \"ma_base_window\": 7, \"envelopes\": [0.07, 0.1, 0.15]},\n",
    "    \"AVAX/USDT:USDT\": {\"size\": 0.1, \"ma_base_window\": 7, \"envelopes\": [0.07, 0.1, 0.15]},\n",
    "    \"ADA/USDT:USDT\": {\"size\": 0.1, \"ma_base_window\": 7, \"envelopes\": [0.07, 0.1, 0.15]},\n",
    "    \n",
    "    # Volatiles (haute volatilité, beaucoup de trades)\n",
    "    \"DOGE/USDT:USDT\": {\"size\": 0.1, \"ma_base_window\": 7, \"envelopes\": [0.07, 0.1, 0.15]},\n",
    "    \"SUSHI/USDT:USDT\": {\"size\": 0.1, \"ma_base_window\": 7, \"envelopes\": [0.07, 0.1, 0.15]},\n",
    "    \n",
    "    # Low performers (pour tester robustesse)\n",
    "    \"TRX/USDT:USDT\": {\"size\": 0.1, \"ma_base_window\": 7, \"envelopes\": [0.07, 0.1, 0.15]},\n",
    "}\n",
    "\n",
    "# Classification par profil\n",
    "PAIR_CLASSES = {\n",
    "    \"BTC/USDT:USDT\": \"major\",\n",
    "    \"ETH/USDT:USDT\": \"major\",\n",
    "    \"SOL/USDT:USDT\": \"mid-cap\",\n",
    "    \"AVAX/USDT:USDT\": \"mid-cap\",\n",
    "    \"ADA/USDT:USDT\": \"mid-cap\",\n",
    "    \"DOGE/USDT:USDT\": \"volatile\",\n",
    "    \"SUSHI/USDT:USDT\": \"volatile\",\n",
    "    \"TRX/USDT:USDT\": \"low\",\n",
    "}\n",
    "\n",
    "# Conversion pour backtest (diviser size par leverage)\n",
    "params_coin = {}\n",
    "for pair, p in params_live.items():\n",
    "    params_coin[pair] = {\n",
    "        \"ma_base_window\": p[\"ma_base_window\"],\n",
    "        \"envelopes\": p[\"envelopes\"],\n",
    "        \"src\": \"close\",\n",
    "        \"size\": p[\"size\"] / BACKTEST_LEVERAGE  # Ajustement pour V2 engine\n",
    "    }\n",
    "\n",
    "print(\"✅ Configuration chargée\")\n",
    "print(f\"   Paires: {len(params_coin)} (échantillon stratifié)\")\n",
    "print(f\"   - Majors: {sum(1 for c in PAIR_CLASSES.values() if c == 'major')}\")\n",
    "print(f\"   - Mid-caps: {sum(1 for c in PAIR_CLASSES.values() if c == 'mid-cap')}\")\n",
    "print(f\"   - Volatiles: {sum(1 for c in PAIR_CLASSES.values() if c == 'volatile')}\")\n",
    "print(f\"   - Low performers: {sum(1 for c in PAIR_CLASSES.values() if c == 'low')}\")\n",
    "print(f\"   Période: {START_DATE} → {END_DATE} (BULL 2020-21, BEAR 2022, BULL 2023-24)\")\n",
    "print(f\"   Leverage: {BACKTEST_LEVERAGE}x\")"
   ]
  },
  {
   "cell_type": "code",
   "execution_count": 3,
   "metadata": {},
   "outputs": [
    {
     "name": "stdout",
     "output_type": "stream",
     "text": [
      "Chargement BTC/USDT:USDT...\n",
      "Chargement ETH/USDT:USDT...\n",
      "Chargement SOL/USDT:USDT...\n",
      "Chargement AVAX/USDT:USDT...\n",
      "Chargement ADA/USDT:USDT...\n",
      "Chargement DOGE/USDT:USDT...\n",
      "Chargement SUSHI/USDT:USDT...\n",
      "Chargement TRX/USDT:USDT...\n",
      "\n",
      "✅ Données chargées. Paire la plus ancienne: BTC/USDT:USDT\n"
     ]
    }
   ],
   "source": [
    "# Chargement des données\n",
    "exchange = ExchangeDataManager(\n",
    "    exchange_name=\"bitget\",\n",
    "    path_download=\"../database/exchanges\"\n",
    ")\n",
    "\n",
    "df_list = {}\n",
    "for pair in params_coin.keys():\n",
    "    print(f\"Chargement {pair}...\")\n",
    "    df = exchange.load_data(pair, \"1h\", start_date=START_DATE, end_date=END_DATE)\n",
    "    df_list[pair] = df\n",
    "\n",
    "oldest_pair = min(df_list, key=lambda p: df_list[p].index.min())\n",
    "print(f\"\\n✅ Données chargées. Paire la plus ancienne: {oldest_pair}\")"
   ]
  },
  {
   "cell_type": "code",
   "execution_count": 4,
   "metadata": {},
   "outputs": [
    {
     "name": "stdout",
     "output_type": "stream",
     "text": [
      "📊 Distribution des régimes détectés:\n",
      "   BULL: 48.1%\n",
      "   BEAR: 39.3%\n",
      "   RECOVERY: 12.6%\n"
     ]
    }
   ],
   "source": [
    "# Détection du régime sur BTC (proxy global)\n",
    "df_btc = exchange.load_data(\"BTC/USDT:USDT\", \"1h\", start_date=START_DATE, end_date=END_DATE)\n",
    "regime_series = calculate_regime_series(df_btc, confirm_n=12)\n",
    "\n",
    "# Distribution des régimes\n",
    "print(\"📊 Distribution des régimes détectés:\")\n",
    "regime_counts = regime_series.value_counts(normalize=True) * 100\n",
    "for regime, pct in regime_counts.items():\n",
    "    print(f\"   {regime.name}: {pct:.1f}%\")"
   ]
  },
  {
   "cell_type": "markdown",
   "metadata": {},
   "source": [
    "## 2️⃣ Définition des stratégies à comparer"
   ]
  },
  {
   "cell_type": "code",
   "execution_count": 5,
   "metadata": {},
   "outputs": [
    {
     "name": "stdout",
     "output_type": "stream",
     "text": [
      "✅ 2 stratégies configurées:\n",
      "   - Baseline (Fixed): Fixed parameters (baseline)\n",
      "   - Regime Adaptive: Regime-based adaptation (envelope_std)\n"
     ]
    }
   ],
   "source": [
    "# Liste des adaptateurs à tester\n",
    "adapters = {\n",
    "    \"Baseline (Fixed)\": FixedParamsAdapter(params_coin),\n",
    "    \n",
    "    \"Regime Adaptive\": RegimeBasedAdapter(\n",
    "        base_params=params_coin,\n",
    "        regime_series=regime_series,\n",
    "        regime_params=DEFAULT_PARAMS,\n",
    "        multipliers={'envelope_std': True},\n",
    "        base_std=0.10\n",
    "    ),\n",
    "    \n",
    "    # Ajouter d'autres configurations ici...\n",
    "    # \"Conservative\": RegimeBasedAdapter(..., base_std=0.08),\n",
    "    # \"Aggressive\": RegimeBasedAdapter(..., base_std=0.12),\n",
    "}\n",
    "\n",
    "print(f\"✅ {len(adapters)} stratégies configurées:\")\n",
    "for name, adapter in adapters.items():\n",
    "    print(f\"   - {name}: {adapter.get_description()}\")"
   ]
  },
  {
   "cell_type": "markdown",
   "metadata": {},
   "source": [
    "## 3️⃣ Exécution des backtests"
   ]
  },
  {
   "cell_type": "code",
   "execution_count": 6,
   "metadata": {},
   "outputs": [
    {
     "name": "stdout",
     "output_type": "stream",
     "text": [
      "\n",
      "🚀 Exécution des backtests...\n",
      "\n",
      "================================================================================\n",
      "\n",
      "▶ Baseline (Fixed)\n",
      "--------------------------------------------------------------------------------\n",
      "   Wallet final: $3273.49 (+227.35%)\n",
      "   Trades: 2037\n",
      "\n",
      "▶ Regime Adaptive\n",
      "--------------------------------------------------------------------------------\n",
      "   Wallet final: $2392.24 (+139.22%)\n",
      "   Trades: 2097\n",
      "\n",
      "================================================================================\n",
      "✅ Tous les backtests terminés\n",
      "\n"
     ]
    }
   ],
   "source": [
    "# Comparateur\n",
    "comparator = BacktestComparator(initial_wallet=1000)\n",
    "\n",
    "# Paramètres communs\n",
    "backtest_params = {\n",
    "    \"initial_wallet\": 1000,\n",
    "    \"leverage\": BACKTEST_LEVERAGE,\n",
    "    \"maker_fee\": 0.0002,\n",
    "    \"taker_fee\": 0.0006,\n",
    "    \"stop_loss\": 0.25,\n",
    "    \"reinvest\": True,\n",
    "    \"liquidation\": True,\n",
    "    \"risk_mode\": \"scaling\",\n",
    "}\n",
    "\n",
    "# Exécuter tous les backtests\n",
    "print(\"\\n🚀 Exécution des backtests...\\n\")\n",
    "print(\"=\" * 80)\n",
    "\n",
    "for strategy_name, adapter in adapters.items():\n",
    "    print(f\"\\n▶ {strategy_name}\")\n",
    "    print(\"-\" * 80)\n",
    "    \n",
    "    # Initialiser la stratégie\n",
    "    strategy = EnvelopeMulti_v2(\n",
    "        df_list=df_list,\n",
    "        oldest_pair=oldest_pair,\n",
    "        type=[\"long\", \"short\"],\n",
    "        params=params_coin\n",
    "    )\n",
    "    \n",
    "    # Préparer les indicateurs\n",
    "    strategy.populate_indicators()\n",
    "    strategy.populate_buy_sell()\n",
    "    \n",
    "    # Exécuter avec l'adaptateur\n",
    "    result = strategy.run_backtest(\n",
    "        **backtest_params,\n",
    "        params_adapter=adapter  # 🔑 Adaptation dynamique\n",
    "    )\n",
    "    \n",
    "    # Extraire trades et days du résultat\n",
    "    df_trades = result['trades']\n",
    "    df_days = result['days']\n",
    "    \n",
    "    # Ajouter au comparateur\n",
    "    comparator.add_backtest(\n",
    "        name=strategy_name,\n",
    "        df_trades=df_trades,\n",
    "        df_days=df_days,\n",
    "        metadata={\n",
    "            \"adapter\": adapter.get_description(),\n",
    "            \"leverage\": BACKTEST_LEVERAGE,\n",
    "            \"period\": f\"{START_DATE} to {END_DATE}\"\n",
    "        }\n",
    "    )\n",
    "    \n",
    "    # Afficher résultat rapide\n",
    "    final_wallet = df_days['wallet'].iloc[-1] if len(df_days) > 0 else 1000\n",
    "    perf = ((final_wallet / 1000) - 1) * 100\n",
    "    print(f\"   Wallet final: ${final_wallet:.2f} ({perf:+.2f}%)\")\n",
    "    print(f\"   Trades: {len(df_trades)}\")\n",
    "\n",
    "print(\"\\n\" + \"=\" * 80)\n",
    "print(\"✅ Tous les backtests terminés\\n\")"
   ]
  },
  {
   "cell_type": "markdown",
   "metadata": {},
   "source": [
    "## 4️⃣ Comparaison et recommandation"
   ]
  },
  {
   "cell_type": "code",
   "execution_count": 7,
   "metadata": {},
   "outputs": [
    {
     "name": "stdout",
     "output_type": "stream",
     "text": [
      "\n",
      "================================================================================\n",
      "🔍 COMPARAISON DES BACKTESTS\n",
      "================================================================================\n",
      "        Strategy  Final Wallet  Total Perf (%)  Sharpe Ratio  Max DD (%)  Win Rate (%)  N Trades  Avg PnL (%)  Max Win (%)  Max Loss (%)  Total Fees  Avg Exposition  Avg Long Expo  Avg Short Expo  Avg Duration (h)\n",
      "Baseline (Fixed)   3273.491597       227.34916      3.461041   -3.543498     70.250368      2037     1.285758    12.001710     -9.730426   85.896992       23.736505      14.533887        9.202619          4.550319\n",
      " Regime Adaptive   2392.241801       139.22418      2.058420  -14.693148     62.327134      2097     0.865806    14.742303     -9.730426   73.269982       18.384346      11.393610        6.990735          4.383882\n",
      "\n",
      "--------------------------------------------------------------------------------\n",
      "✅ RECOMMANDATION: Baseline (Fixed)\n",
      "--------------------------------------------------------------------------------\n",
      "\n"
     ]
    }
   ],
   "source": [
    "# Générer le rapport comparatif\n",
    "comparator.print_summary()"
   ]
  },
  {
   "cell_type": "code",
   "execution_count": 8,
   "metadata": {},
   "outputs": [
    {
     "name": "stdout",
     "output_type": "stream",
     "text": [
      "📊 BOOTSTRAP SIGNIFICATIVITÉ\n",
      "================================================================================\n",
      "Uplift Sharpe: -5.742\n",
      "IC 95%: [-8.301, -3.252]\n",
      "Significatif: ❌ NON\n",
      "⚠️  Pas de preuve statistique\n",
      "================================================================================\n"
     ]
    }
   ],
   "source": [
    "# Bootstrap significativité\n",
    "def bootstrap_sharpe_difference(df_days_adaptive, df_days_fixed, n_bootstrap=1000):\n",
    "    returns_adaptive = df_days_adaptive['wallet'].pct_change().dropna()\n",
    "    returns_fixed = df_days_fixed['wallet'].pct_change().dropna()\n",
    "    min_len = min(len(returns_adaptive), len(returns_fixed))\n",
    "    returns_adaptive = returns_adaptive.iloc[:min_len]\n",
    "    returns_fixed = returns_fixed.iloc[:min_len]\n",
    "    sharpe_diffs = []\n",
    "    for _ in range(n_bootstrap):\n",
    "        idx = np.random.choice(len(returns_adaptive), len(returns_adaptive), replace=True)\n",
    "        sample_a = returns_adaptive.iloc[idx]\n",
    "        sample_f = returns_fixed.iloc[idx]\n",
    "        sharpe_a = sample_a.mean() / sample_a.std() * np.sqrt(252*24) if sample_a.std() > 0 else 0\n",
    "        sharpe_f = sample_f.mean() / sample_f.std() * np.sqrt(252*24) if sample_f.std() > 0 else 0\n",
    "        sharpe_diffs.append(sharpe_a - sharpe_f)\n",
    "    sharpe_diffs = np.array(sharpe_diffs)\n",
    "    uplift = np.mean(sharpe_diffs)\n",
    "    ci_lower = np.percentile(sharpe_diffs, 2.5)\n",
    "    ci_upper = np.percentile(sharpe_diffs, 97.5)\n",
    "    is_significant = ci_lower > 0\n",
    "    return uplift, ci_lower, ci_upper, is_significant\n",
    "\n",
    "bt_fixed = [bt for bt in comparator.backtests if \"Fixed\" in bt.name][0]\n",
    "bt_adaptive = [bt for bt in comparator.backtests if \"Adaptive\" in bt.name][0]\n",
    "\n",
    "uplift, ci_low, ci_high, is_sig = bootstrap_sharpe_difference(bt_adaptive.df_days, bt_fixed.df_days, 1000)\n",
    "\n",
    "print(\"📊 BOOTSTRAP SIGNIFICATIVITÉ\")\n",
    "print(\"=\" * 80)\n",
    "print(f\"Uplift Sharpe: {uplift:+.3f}\")\n",
    "print(f\"IC 95%: [{ci_low:+.3f}, {ci_high:+.3f}]\")\n",
    "print(f\"Significatif: {'✅ OUI' if is_sig else '❌ NON'}\")\n",
    "if is_sig:\n",
    "    print(\"✅ L'adaptation améliore significativement le Sharpe\")\n",
    "else:\n",
    "    print(\"⚠️  Pas de preuve statistique\")\n",
    "print(\"=\" * 80)"
   ]
  },
  {
   "cell_type": "code",
   "execution_count": 9,
   "metadata": {},
   "outputs": [
    {
     "name": "stdout",
     "output_type": "stream",
     "text": [
      "\n",
      "📈 ANALYSE PAR CLASSE\n",
      "================================================================================\n",
      "class\n",
      "low         -32.77\n",
      "major       -93.62\n",
      "mid-cap    -128.86\n",
      "volatile   -137.35\n",
      "Name: delta_pnl, dtype: float64\n",
      "\n",
      "✅ Meilleure: low (+$-32.77)\n",
      "⚠️  Pire: volatile (-137.35$)\n",
      "================================================================================\n"
     ]
    }
   ],
   "source": [
    "# Analyse par classe\n",
    "print(\"\\n📈 ANALYSE PAR CLASSE\")\n",
    "print(\"=\" * 80)\n",
    "\n",
    "results = []\n",
    "for pair in params_coin.keys():\n",
    "    df_tf = bt_fixed.df_trades[bt_fixed.df_trades['pair'] == pair].copy()\n",
    "    df_ta = bt_adaptive.df_trades[bt_adaptive.df_trades['pair'] == pair].copy()\n",
    "    for df in [df_tf, df_ta]:\n",
    "        if len(df) > 0 and 'trade_result' not in df.columns:\n",
    "            df['trade_result'] = df[\"close_trade_size\"] - df[\"open_trade_size\"] - df[\"open_fee\"] - df[\"close_fee\"]\n",
    "    pnl_f = df_tf['trade_result'].sum() if len(df_tf) > 0 else 0\n",
    "    pnl_a = df_ta['trade_result'].sum() if len(df_ta) > 0 else 0\n",
    "    results.append({'pair': pair, 'class': PAIR_CLASSES[pair], 'delta_pnl': pnl_a - pnl_f})\n",
    "\n",
    "df_res = pd.DataFrame(results).groupby('class')['delta_pnl'].mean().round(2)\n",
    "print(df_res)\n",
    "print(f\"\\n✅ Meilleure: {df_res.idxmax()} (+${df_res.max():.2f})\")\n",
    "print(f\"⚠️  Pire: {df_res.idxmin()} ({df_res.min():+.2f}$)\")\n",
    "print(\"=\" * 80)"
   ]
  },
  {
   "cell_type": "code",
   "execution_count": 10,
   "metadata": {},
   "outputs": [
    {
     "data": {
      "image/png": "[encoded data removed]",
      "text/plain": [
       "<Figure size 1000x600 with 2 Axes>"
      ]
     },
     "metadata": {},
     "output_type": "display_data"
    },
    {
     "name": "stdout",
     "output_type": "stream",
     "text": [
      "\n",
      "💡 Interprétation:\n",
      "   - Vert: Adaptive performe mieux que Fixed\n",
      "   - Rouge: Fixed performe mieux que Adaptive\n",
      "   - Identifier les classes/régimes où l'adaptation est bénéfique\n"
     ]
    }
   ],
   "source": [
    "# Heatmap: Delta PnL par classe × régime\n",
    "import matplotlib.pyplot as plt\n",
    "import seaborn as sns\n",
    "from core import Regime\n",
    "\n",
    "data = []\n",
    "for pair in params_coin.keys():\n",
    "    df_ta = bt_adaptive.df_trades[bt_adaptive.df_trades['pair'] == pair].copy()\n",
    "    df_tf = bt_fixed.df_trades[bt_fixed.df_trades['pair'] == pair].copy()\n",
    "\n",
    "    for df in [df_ta, df_tf]:\n",
    "        if len(df) > 0 and 'trade_result' not in df.columns:\n",
    "            df['trade_result'] = df[\"close_trade_size\"] - df[\"open_trade_size\"] - df[\"open_fee\"] - df[\"close_fee\"]\n",
    "\n",
    "    if len(df_ta) > 0:\n",
    "        df_ta['date'] = pd.to_datetime(df_ta['open_date'])\n",
    "        df_ta['regime'] = df_ta['date'].map(lambda x: regime_series.asof(x))\n",
    "\n",
    "    if len(df_tf) > 0:\n",
    "        df_tf['date'] = pd.to_datetime(df_tf['open_date'])\n",
    "        df_tf['regime'] = df_tf['date'].map(lambda x: regime_series.asof(x))\n",
    "\n",
    "    # Use Regime enum instead of string comparison\n",
    "    for reg_enum, reg_name in [(Regime.BULL, 'BULL'), (Regime.BEAR, 'BEAR'), (Regime.RECOVERY, 'RECOVERY')]:\n",
    "        if len(df_ta) > 0:\n",
    "            # Filter by Regime enum value\n",
    "            pnl_a = df_ta[df_ta['regime'] == reg_enum]['trade_result'].sum()\n",
    "            dates = df_ta[df_ta['regime'] == reg_enum]['date']\n",
    "            pnl_f = df_tf[df_tf['date'].isin(dates)]['trade_result'].sum() if len(df_tf) > 0 else 0\n",
    "            data.append({'class': PAIR_CLASSES[pair], 'regime': reg_name, 'delta': pnl_a - pnl_f})\n",
    "\n",
    "df_h = pd.DataFrame(data).groupby(['class', 'regime'])['delta'].sum().unstack(fill_value=0)\n",
    "\n",
    "fig, ax = plt.subplots(figsize=(10, 6))\n",
    "sns.heatmap(df_h, annot=True, fmt=\".1f\", cmap='RdYlGn', center=0, ax=ax)\n",
    "ax.set_title('Delta PnL (Adaptive - Fixed) par Classe × Régime', fontsize=14, fontweight='bold')\n",
    "ax.set_xlabel('Régime de marché')\n",
    "ax.set_ylabel(\"Classe d'actifs\")\n",
    "plt.tight_layout()\n",
    "plt.show()\n",
    "\n",
    "print(\"\\n💡 Interprétation:\")\n",
    "print(\"   - Vert: Adaptive performe mieux que Fixed\")\n",
    "print(\"   - Rouge: Fixed performe mieux que Adaptive\")\n",
    "print(\"   - Identifier les classes/régimes où l'adaptation est bénéfique\")"
   ]
  },
  {
   "cell_type": "code",
   "execution_count": 11,
   "metadata": {},
   "outputs": [
    {
     "name": "stdout",
     "output_type": "stream",
     "text": [
      "\n",
      "📈 ANALYSE PAR CLASSE D'ACTIFS\n",
      "================================================================================\n",
      "\n",
      "Delta performance (Adaptive - Fixed) par classe:\n",
      "          delta_pnl  delta_wr  n_trades_adaptive\n",
      "class                                           \n",
      "low          -32.77     -6.64                207\n",
      "major        -93.62     -9.80                277\n",
      "mid-cap     -128.86     -8.88                752\n",
      "volatile    -137.35     -7.31                861\n",
      "\n",
      "✅ Meilleure classe avec Adaptive: low (+$-32.77)\n",
      "⚠️  Pire classe avec Adaptive: volatile (-137.35$)\n",
      "\n",
      "================================================================================\n"
     ]
    }
   ],
   "source": [
    "# Analyse par classe d'actifs\n",
    "print(\"\\n📈 ANALYSE PAR CLASSE D'ACTIFS\")\n",
    "print(\"=\" * 80)\n",
    "\n",
    "# Calculer métriques par paire pour chaque stratégie\n",
    "results_by_pair = []\n",
    "\n",
    "for pair in params_coin.keys():\n",
    "    # Filter trades for this pair\n",
    "    df_trades_fixed = bt_fixed.df_trades[bt_fixed.df_trades['pair'] == pair].copy()\n",
    "    df_trades_adaptive = bt_adaptive.df_trades[bt_adaptive.df_trades['pair'] == pair].copy()\n",
    "    \n",
    "    # Calculate trade_result if absent\n",
    "    for df in [df_trades_fixed, df_trades_adaptive]:\n",
    "        if len(df) > 0 and 'trade_result' not in df.columns:\n",
    "            df['trade_result'] = (\n",
    "                df[\"close_trade_size\"] -\n",
    "                df[\"open_trade_size\"] -\n",
    "                df[\"open_fee\"] -\n",
    "                df[\"close_fee\"]\n",
    "            )\n",
    "    \n",
    "    # Métriques\n",
    "    n_trades_fixed = len(df_trades_fixed)\n",
    "    n_trades_adaptive = len(df_trades_adaptive)\n",
    "    \n",
    "    if n_trades_fixed > 0:\n",
    "        wr_fixed = (df_trades_fixed['trade_result'] > 0).mean() * 100\n",
    "        pnl_fixed = df_trades_fixed['trade_result'].sum()\n",
    "    else:\n",
    "        wr_fixed = 0\n",
    "        pnl_fixed = 0\n",
    "        \n",
    "    if n_trades_adaptive > 0:\n",
    "        wr_adaptive = (df_trades_adaptive['trade_result'] > 0).mean() * 100\n",
    "        pnl_adaptive = df_trades_adaptive['trade_result'].sum()\n",
    "    else:\n",
    "        wr_adaptive = 0\n",
    "        pnl_adaptive = 0\n",
    "    \n",
    "    results_by_pair.append({\n",
    "        'pair': pair,\n",
    "        'class': PAIR_CLASSES[pair],\n",
    "        'n_trades_fixed': n_trades_fixed,\n",
    "        'n_trades_adaptive': n_trades_adaptive,\n",
    "        'wr_fixed': wr_fixed,\n",
    "        'wr_adaptive': wr_adaptive,\n",
    "        'pnl_fixed': pnl_fixed,\n",
    "        'pnl_adaptive': pnl_adaptive,\n",
    "        'delta_pnl': pnl_adaptive - pnl_fixed,\n",
    "        'delta_wr': wr_adaptive - wr_fixed,\n",
    "    })\n",
    "\n",
    "df_pair_analysis = pd.DataFrame(results_by_pair)\n",
    "\n",
    "# Aggregate by class\n",
    "df_class_analysis = df_pair_analysis.groupby('class').agg({\n",
    "    'delta_pnl': 'mean',\n",
    "    'delta_wr': 'mean',\n",
    "    'n_trades_adaptive': 'sum',\n",
    "}).round(2)\n",
    "\n",
    "print(f\"\\nDelta performance (Adaptive - Fixed) par classe:\")\n",
    "print(df_class_analysis.to_string())\n",
    "\n",
    "# Identify best/worst classes\n",
    "best_class = df_class_analysis['delta_pnl'].idxmax()\n",
    "worst_class = df_class_analysis['delta_pnl'].idxmin()\n",
    "\n",
    "print(f\"\\n✅ Meilleure classe avec Adaptive: {best_class} (+${df_class_analysis.loc[best_class, 'delta_pnl']:.2f})\")\n",
    "print(f\"⚠️  Pire classe avec Adaptive: {worst_class} ({df_class_analysis.loc[worst_class, 'delta_pnl']:+.2f}$)\")\n",
    "\n",
    "print(\"\\n\" + \"=\" * 80)"
   ]
  },
  {
   "cell_type": "code",
   "execution_count": 12,
   "metadata": {},
   "outputs": [
    {
     "name": "stdout",
     "output_type": "stream",
     "text": [
      "\n",
      "📊 Top stratégies par Sharpe Ratio:\n",
      "           Strategy  Sharpe Ratio  Total Perf (%)  Max DD (%)\n",
      "0  Baseline (Fixed)      3.461041       227.34916   -3.543498\n",
      "1   Regime Adaptive      2.058420       139.22418  -14.693148\n"
     ]
    }
   ],
   "source": [
    "# Voir le classement par métrique spécifique\n",
    "print(\"\\n📊 Top stratégies par Sharpe Ratio:\")\n",
    "print(comparator.rank('Sharpe Ratio')[['Strategy', 'Sharpe Ratio', 'Total Perf (%)', 'Max DD (%)']].head())"
   ]
  },
  {
   "cell_type": "code",
   "execution_count": 13,
   "metadata": {},
   "outputs": [
    {
     "name": "stdout",
     "output_type": "stream",
     "text": [
      "✅ Comparaison sauvegardée: backtest_comparison_results.csv\n",
      "\n",
      "💾 Résultats complets sauvegardés: backtest_comparison_results.csv\n"
     ]
    }
   ],
   "source": [
    "# Sauvegarder les résultats\n",
    "output_path = \"backtest_comparison_results.csv\"\n",
    "comparator.save_comparison(output_path)\n",
    "print(f\"\\n💾 Résultats complets sauvegardés: {output_path}\")"
   ]
  },
  {
   "cell_type": "markdown",
   "metadata": {},
   "source": [
    "## 5️⃣ Analyse détaillée (optionnel)"
   ]
  },
  {
   "cell_type": "code",
   "execution_count": 14,
   "metadata": {},
   "outputs": [
    {
     "data": {
      "image/png": "[encoded data removed]",
      "text/plain": [
       "<Figure size 1400x600 with 1 Axes>"
      ]
     },
     "metadata": {},
     "output_type": "display_data"
    }
   ],
   "source": [
    "# Visualiser l'évolution du wallet pour chaque stratégie\n",
    "import matplotlib.pyplot as plt\n",
    "\n",
    "plt.figure(figsize=(14, 6))\n",
    "\n",
    "for bt in comparator.backtests:\n",
    "    df_days = bt.df_days.copy()\n",
    "    if len(df_days) > 0:\n",
    "        df_days['date'] = pd.to_datetime(df_days['day'])\n",
    "        plt.plot(df_days['date'], df_days['wallet'], label=bt.name, linewidth=2)\n",
    "\n",
    "plt.axhline(y=1000, color='gray', linestyle='--', alpha=0.5, label='Initial Wallet')\n",
    "plt.xlabel('Date')\n",
    "plt.ylabel('Wallet ($)')\n",
    "plt.title('Comparaison de l\\'évolution du wallet')\n",
    "plt.legend()\n",
    "plt.grid(alpha=0.3)\n",
    "plt.tight_layout()\n",
    "plt.show()"
   ]
  },
  {
   "cell_type": "markdown",
   "metadata": {},
   "source": [
    "## 🎯 Conclusion\n",
    "\n",
    "- Le tableau comparatif montre toutes les métriques clés\n",
    "- La recommandation est basée sur un score composite pondéré\n",
    "- Vous pouvez facilement ajouter de nouvelles stratégies dans la section 2️⃣\n",
    "- Les résultats sont automatiquement sauvegardés en CSV\n",
    "\n",
    "**Next steps:**\n",
    "1. Ajuster les pondérations du score selon vos priorités\n",
    "2. Tester sur différentes périodes\n",
    "3. Créer des adaptateurs custom avec votre propre logique"
   ]
  }
 ],
 "metadata": {
  "kernelspec": {
   "display_name": "Python 3",
   "language": "python",
   "name": "python3"
  },
  "language_info": {
   "codemirror_mode": {
    "name": "ipython",
    "version": 3
   },
   "file_extension": ".py",
   "mimetype": "text/x-python",
   "name": "python",
   "nbconvert_exporter": "python",
   "pygments_lexer": "ipython3",
   "version": "3.13.7"
  }
 },
 "nbformat": 4,
 "nbformat_minor": 4
}
