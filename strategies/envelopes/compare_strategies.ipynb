{
 "cells": [
  {
   "cell_type": "markdown",
   "metadata": {},
   "source": [
    "# Comparaison Multi-Stratégies : Fixed vs Adaptive\n",
    "\n",
    "Ce notebook permet de comparer plusieurs configurations de la stratégie Envelope :\n",
    "- **Baseline** : Paramètres fixes (configuration actuelle)\n",
    "- **Regime Adaptive** : Adaptation selon le régime de marché (BULL/BEAR/RECOVERY)\n",
    "- **Custom** : Vos propres adaptations\n",
    "\n",
    "Le système génère automatiquement un rapport comparatif avec recommandation."
   ]
  },
  {
   "cell_type": "markdown",
   "metadata": {},
   "source": [
    "## 1️⃣ Configuration et chargement des données"
   ]
  },
  {
   "cell_type": "code",
   "execution_count": 1,
   "metadata": {},
   "outputs": [
    {
     "name": "stderr",
     "output_type": "stream",
     "text": [
      "c:\\Users\\jacks\\AppData\\Local\\Programs\\Python\\Python313\\Lib\\site-packages\\tqdm\\auto.py:21: TqdmWarning: IProgress not found. Please update jupyter and ipywidgets. See https://ipywidgets.readthedocs.io/en/stable/user_install.html\n",
      "  from .autonotebook import tqdm as notebook_tqdm\n"
     ]
    }
   ],
   "source": [
    "import sys\n",
    "sys.path.append('../..')\n",
    "\n",
    "import pandas as pd\n",
    "import numpy as np\n",
    "from datetime import datetime, timedelta\n",
    "\n",
    "# Backtest engine\n",
    "from utilities.strategies.envelopeMulti_v2 import EnvelopeMulti_v2\n",
    "from utilities.data_manager import ExchangeDataManager\n",
    "\n",
    "# Système adaptatif\n",
    "from core import calculate_regime_series, DEFAULT_PARAMS\n",
    "from core.params_adapter import FixedParamsAdapter, RegimeBasedAdapter\n",
    "from core.backtest_comparator import BacktestComparator"
   ]
  },
  {
   "cell_type": "code",
   "execution_count": 2,
   "metadata": {},
   "outputs": [
    {
     "name": "stdout",
     "output_type": "stream",
     "text": [
      "✅ Configuration chargée\n",
      "   Paires: ['BTC/USDT:USDT', 'ETH/USDT:USDT', 'SOL/USDT:USDT']\n",
      "   Période: 2023-01-01 → 2024-12-31\n",
      "   Leverage: 10x\n"
     ]
    }
   ],
   "source": [
    "# Configuration du backtest\n",
    "BACKTEST_LEVERAGE = 10\n",
    "START_DATE = \"2023-01-01\"\n",
    "END_DATE = \"2024-12-31\"\n",
    "\n",
    "# Paramètres live (à adapter pour backtest)\n",
    "params_live = {\n",
    "    \"BTC/USDT:USDT\": {\"size\": 0.1, \"ma_base_window\": 7, \"envelopes\": [0.07, 0.1, 0.15]},\n",
    "    \"ETH/USDT:USDT\": {\"size\": 0.1, \"ma_base_window\": 7, \"envelopes\": [0.07, 0.1, 0.15]},\n",
    "    \"SOL/USDT:USDT\": {\"size\": 0.1, \"ma_base_window\": 7, \"envelopes\": [0.07, 0.1, 0.15]},\n",
    "}\n",
    "\n",
    "# Conversion pour backtest (diviser size par leverage)\n",
    "params_coin = {}\n",
    "for pair, p in params_live.items():\n",
    "    params_coin[pair] = {\n",
    "        \"ma_base_window\": p[\"ma_base_window\"],\n",
    "        \"envelopes\": p[\"envelopes\"],\n",
    "        \"src\": \"close\",\n",
    "        \"size\": p[\"size\"] / BACKTEST_LEVERAGE  # Ajustement pour V2 engine\n",
    "    }\n",
    "\n",
    "print(\"✅ Configuration chargée\")\n",
    "print(f\"   Paires: {list(params_coin.keys())}\")\n",
    "print(f\"   Période: {START_DATE} → {END_DATE}\")\n",
    "print(f\"   Leverage: {BACKTEST_LEVERAGE}x\")"
   ]
  },
  {
   "cell_type": "code",
   "execution_count": 3,
   "metadata": {},
   "outputs": [
    {
     "name": "stdout",
     "output_type": "stream",
     "text": [
      "Chargement BTC/USDT:USDT...\n",
      "Chargement ETH/USDT:USDT...\n",
      "Chargement SOL/USDT:USDT...\n",
      "\n",
      "✅ Données chargées. Paire la plus ancienne: BTC/USDT:USDT\n"
     ]
    }
   ],
   "source": [
    "# Chargement des données\n",
    "exchange = ExchangeDataManager(\n",
    "    exchange_name=\"bitget\",\n",
    "    path_download=\"../database/exchanges\"\n",
    ")\n",
    "\n",
    "df_list = {}\n",
    "for pair in params_coin.keys():\n",
    "    print(f\"Chargement {pair}...\")\n",
    "    df = exchange.load_data(pair, \"1h\", start_date=START_DATE, end_date=END_DATE)\n",
    "    df_list[pair] = df\n",
    "\n",
    "oldest_pair = min(df_list, key=lambda p: df_list[p].index.min())\n",
    "print(f\"\\n✅ Données chargées. Paire la plus ancienne: {oldest_pair}\")"
   ]
  },
  {
   "cell_type": "code",
   "execution_count": 4,
   "metadata": {},
   "outputs": [
    {
     "ename": "KeyError",
     "evalue": "'ema50'",
     "output_type": "error",
     "traceback": [
      "\u001b[31m---------------------------------------------------------------------------\u001b[39m",
      "\u001b[31mKeyError\u001b[39m                                  Traceback (most recent call last)",
      "\u001b[36mFile \u001b[39m\u001b[32mc:\\Users\\jacks\\AppData\\Local\\Programs\\Python\\Python313\\Lib\\site-packages\\pandas\\core\\indexes\\base.py:3812\u001b[39m, in \u001b[36mIndex.get_loc\u001b[39m\u001b[34m(self, key)\u001b[39m\n\u001b[32m   3811\u001b[39m \u001b[38;5;28;01mtry\u001b[39;00m:\n\u001b[32m-> \u001b[39m\u001b[32m3812\u001b[39m     \u001b[38;5;28;01mreturn\u001b[39;00m \u001b[38;5;28;43mself\u001b[39;49m\u001b[43m.\u001b[49m\u001b[43m_engine\u001b[49m\u001b[43m.\u001b[49m\u001b[43mget_loc\u001b[49m\u001b[43m(\u001b[49m\u001b[43mcasted_key\u001b[49m\u001b[43m)\u001b[49m\n\u001b[32m   3813\u001b[39m \u001b[38;5;28;01mexcept\u001b[39;00m \u001b[38;5;167;01mKeyError\u001b[39;00m \u001b[38;5;28;01mas\u001b[39;00m err:\n",
      "\u001b[36mFile \u001b[39m\u001b[32mpandas/_libs/index.pyx:167\u001b[39m, in \u001b[36mpandas._libs.index.IndexEngine.get_loc\u001b[39m\u001b[34m()\u001b[39m\n",
      "\u001b[36mFile \u001b[39m\u001b[32mpandas/_libs/index.pyx:196\u001b[39m, in \u001b[36mpandas._libs.index.IndexEngine.get_loc\u001b[39m\u001b[34m()\u001b[39m\n",
      "\u001b[36mFile \u001b[39m\u001b[32mpandas/_libs/hashtable_class_helper.pxi:7088\u001b[39m, in \u001b[36mpandas._libs.hashtable.PyObjectHashTable.get_item\u001b[39m\u001b[34m()\u001b[39m\n",
      "\u001b[36mFile \u001b[39m\u001b[32mpandas/_libs/hashtable_class_helper.pxi:7096\u001b[39m, in \u001b[36mpandas._libs.hashtable.PyObjectHashTable.get_item\u001b[39m\u001b[34m()\u001b[39m\n",
      "\u001b[31mKeyError\u001b[39m: 'ema50'",
      "\nThe above exception was the direct cause of the following exception:\n",
      "\u001b[31mKeyError\u001b[39m                                  Traceback (most recent call last)",
      "\u001b[36mCell\u001b[39m\u001b[36m \u001b[39m\u001b[32mIn[4]\u001b[39m\u001b[32m, line 3\u001b[39m\n\u001b[32m      1\u001b[39m \u001b[38;5;66;03m# Détection du régime sur BTC (proxy global)\u001b[39;00m\n\u001b[32m      2\u001b[39m df_btc = exchange.load_data(\u001b[33m\"\u001b[39m\u001b[33mBTC/USDT:USDT\u001b[39m\u001b[33m\"\u001b[39m, \u001b[33m\"\u001b[39m\u001b[33m1h\u001b[39m\u001b[33m\"\u001b[39m, start_date=START_DATE, end_date=END_DATE)\n\u001b[32m----> \u001b[39m\u001b[32m3\u001b[39m regime_series = \u001b[43mcalculate_regime_series\u001b[49m\u001b[43m(\u001b[49m\u001b[43mdf_btc\u001b[49m\u001b[43m,\u001b[49m\u001b[43m \u001b[49m\u001b[43mconfirm_n\u001b[49m\u001b[43m=\u001b[49m\u001b[32;43m12\u001b[39;49m\u001b[43m)\u001b[49m\n\u001b[32m      5\u001b[39m \u001b[38;5;66;03m# Distribution des régimes\u001b[39;00m\n\u001b[32m      6\u001b[39m \u001b[38;5;28mprint\u001b[39m(\u001b[33m\"\u001b[39m\u001b[33m📊 Distribution des régimes détectés:\u001b[39m\u001b[33m\"\u001b[39m)\n",
      "\u001b[36mFile \u001b[39m\u001b[32md:\\Python\\Cryptobots\\Backtest-Tools-V2\\strategies\\envelopes\\../..\\core\\regime_selector.py:80\u001b[39m, in \u001b[36mcalculate_regime_series\u001b[39m\u001b[34m(df_btc, confirm_n)\u001b[39m\n\u001b[32m     78\u001b[39m \u001b[38;5;66;03m# Extract required columns\u001b[39;00m\n\u001b[32m     79\u001b[39m close = df_btc[\u001b[33m\"\u001b[39m\u001b[33mclose\u001b[39m\u001b[33m\"\u001b[39m]\n\u001b[32m---> \u001b[39m\u001b[32m80\u001b[39m ema50 = \u001b[43mdf_btc\u001b[49m\u001b[43m[\u001b[49m\u001b[33;43m\"\u001b[39;49m\u001b[33;43mema50\u001b[39;49m\u001b[33;43m\"\u001b[39;49m\u001b[43m]\u001b[49m\n\u001b[32m     81\u001b[39m ema200 = df_btc[\u001b[33m\"\u001b[39m\u001b[33mema200\u001b[39m\u001b[33m\"\u001b[39m]\n\u001b[32m     83\u001b[39m \u001b[38;5;66;03m# Calculate normalized slope of EMA200\u001b[39;00m\n",
      "\u001b[36mFile \u001b[39m\u001b[32mc:\\Users\\jacks\\AppData\\Local\\Programs\\Python\\Python313\\Lib\\site-packages\\pandas\\core\\frame.py:4107\u001b[39m, in \u001b[36mDataFrame.__getitem__\u001b[39m\u001b[34m(self, key)\u001b[39m\n\u001b[32m   4105\u001b[39m \u001b[38;5;28;01mif\u001b[39;00m \u001b[38;5;28mself\u001b[39m.columns.nlevels > \u001b[32m1\u001b[39m:\n\u001b[32m   4106\u001b[39m     \u001b[38;5;28;01mreturn\u001b[39;00m \u001b[38;5;28mself\u001b[39m._getitem_multilevel(key)\n\u001b[32m-> \u001b[39m\u001b[32m4107\u001b[39m indexer = \u001b[38;5;28;43mself\u001b[39;49m\u001b[43m.\u001b[49m\u001b[43mcolumns\u001b[49m\u001b[43m.\u001b[49m\u001b[43mget_loc\u001b[49m\u001b[43m(\u001b[49m\u001b[43mkey\u001b[49m\u001b[43m)\u001b[49m\n\u001b[32m   4108\u001b[39m \u001b[38;5;28;01mif\u001b[39;00m is_integer(indexer):\n\u001b[32m   4109\u001b[39m     indexer = [indexer]\n",
      "\u001b[36mFile \u001b[39m\u001b[32mc:\\Users\\jacks\\AppData\\Local\\Programs\\Python\\Python313\\Lib\\site-packages\\pandas\\core\\indexes\\base.py:3819\u001b[39m, in \u001b[36mIndex.get_loc\u001b[39m\u001b[34m(self, key)\u001b[39m\n\u001b[32m   3814\u001b[39m     \u001b[38;5;28;01mif\u001b[39;00m \u001b[38;5;28misinstance\u001b[39m(casted_key, \u001b[38;5;28mslice\u001b[39m) \u001b[38;5;129;01mor\u001b[39;00m (\n\u001b[32m   3815\u001b[39m         \u001b[38;5;28misinstance\u001b[39m(casted_key, abc.Iterable)\n\u001b[32m   3816\u001b[39m         \u001b[38;5;129;01mand\u001b[39;00m \u001b[38;5;28many\u001b[39m(\u001b[38;5;28misinstance\u001b[39m(x, \u001b[38;5;28mslice\u001b[39m) \u001b[38;5;28;01mfor\u001b[39;00m x \u001b[38;5;129;01min\u001b[39;00m casted_key)\n\u001b[32m   3817\u001b[39m     ):\n\u001b[32m   3818\u001b[39m         \u001b[38;5;28;01mraise\u001b[39;00m InvalidIndexError(key)\n\u001b[32m-> \u001b[39m\u001b[32m3819\u001b[39m     \u001b[38;5;28;01mraise\u001b[39;00m \u001b[38;5;167;01mKeyError\u001b[39;00m(key) \u001b[38;5;28;01mfrom\u001b[39;00m\u001b[38;5;250m \u001b[39m\u001b[34;01merr\u001b[39;00m\n\u001b[32m   3820\u001b[39m \u001b[38;5;28;01mexcept\u001b[39;00m \u001b[38;5;167;01mTypeError\u001b[39;00m:\n\u001b[32m   3821\u001b[39m     \u001b[38;5;66;03m# If we have a listlike key, _check_indexing_error will raise\u001b[39;00m\n\u001b[32m   3822\u001b[39m     \u001b[38;5;66;03m#  InvalidIndexError. Otherwise we fall through and re-raise\u001b[39;00m\n\u001b[32m   3823\u001b[39m     \u001b[38;5;66;03m#  the TypeError.\u001b[39;00m\n\u001b[32m   3824\u001b[39m     \u001b[38;5;28mself\u001b[39m._check_indexing_error(key)\n",
      "\u001b[31mKeyError\u001b[39m: 'ema50'"
     ]
    }
   ],
   "source": [
    "# Détection du régime sur BTC (proxy global)\n",
    "df_btc = exchange.load_data(\"BTC/USDT:USDT\", \"1h\", start_date=START_DATE, end_date=END_DATE)\n",
    "regime_series = calculate_regime_series(df_btc, confirm_n=12)\n",
    "\n",
    "# Distribution des régimes\n",
    "print(\"📊 Distribution des régimes détectés:\")\n",
    "regime_counts = regime_series.value_counts(normalize=True) * 100\n",
    "for regime, pct in regime_counts.items():\n",
    "    print(f\"   {regime.name}: {pct:.1f}%\")"
   ]
  },
  {
   "cell_type": "markdown",
   "metadata": {},
   "source": [
    "## 2️⃣ Définition des stratégies à comparer"
   ]
  },
  {
   "cell_type": "code",
   "execution_count": null,
   "metadata": {},
   "outputs": [],
   "source": [
    "# Liste des adaptateurs à tester\n",
    "adapters = {\n",
    "    \"Baseline (Fixed)\": FixedParamsAdapter(params_coin),\n",
    "    \n",
    "    \"Regime Adaptive\": RegimeBasedAdapter(\n",
    "        base_params=params_coin,\n",
    "        regime_series=regime_series,\n",
    "        regime_params=DEFAULT_PARAMS,\n",
    "        multipliers={'envelope_std': True},\n",
    "        base_std=0.10\n",
    "    ),\n",
    "    \n",
    "    # Ajouter d'autres configurations ici...\n",
    "    # \"Conservative\": RegimeBasedAdapter(..., base_std=0.08),\n",
    "    # \"Aggressive\": RegimeBasedAdapter(..., base_std=0.12),\n",
    "}\n",
    "\n",
    "print(f\"✅ {len(adapters)} stratégies configurées:\")\n",
    "for name, adapter in adapters.items():\n",
    "    print(f\"   - {name}: {adapter.get_description()}\")"
   ]
  },
  {
   "cell_type": "markdown",
   "metadata": {},
   "source": [
    "## 3️⃣ Exécution des backtests"
   ]
  },
  {
   "cell_type": "code",
   "execution_count": null,
   "metadata": {},
   "outputs": [],
   "source": "# Comparateur\ncomparator = BacktestComparator(initial_wallet=1000)\n\n# Paramètres communs\nbacktest_params = {\n    \"initial_wallet\": 1000,\n    \"leverage\": BACKTEST_LEVERAGE,\n    \"maker_fee\": 0.0002,\n    \"taker_fee\": 0.0006,\n    \"stop_loss\": 0.25,\n    \"reinvest\": True,\n    \"liquidation\": True,\n    \"risk_mode\": \"scaling\",\n}\n\n# Exécuter tous les backtests\nprint(\"\\n🚀 Exécution des backtests...\\n\")\nprint(\"=\" * 80)\n\nfor strategy_name, adapter in adapters.items():\n    print(f\"\\n▶ {strategy_name}\")\n    print(\"-\" * 80)\n    \n    # Initialiser la stratégie\n    strategy = EnvelopeMulti_v2(\n        df_list=df_list,\n        oldest_pair=oldest_pair,\n        type=[\"long\", \"short\"],\n        params=params_coin\n    )\n    \n    # Préparer les indicateurs\n    strategy.populate_indicators()\n    strategy.populate_buy_sell()\n    \n    # Exécuter avec l'adaptateur\n    result = strategy.run_backtest(\n        **backtest_params,\n        params_adapter=adapter  # 🔑 Adaptation dynamique\n    )\n    \n    # Extraire trades et days du résultat\n    df_trades = result['trades']\n    df_days = result['days']\n    \n    # Ajouter au comparateur\n    comparator.add_backtest(\n        name=strategy_name,\n        df_trades=df_trades,\n        df_days=df_days,\n        metadata={\n            \"adapter\": adapter.get_description(),\n            \"leverage\": BACKTEST_LEVERAGE,\n            \"period\": f\"{START_DATE} to {END_DATE}\"\n        }\n    )\n    \n    # Afficher résultat rapide\n    final_wallet = df_days['wallet'].iloc[-1] if len(df_days) > 0 else 1000\n    perf = ((final_wallet / 1000) - 1) * 100\n    print(f\"   Wallet final: ${final_wallet:.2f} ({perf:+.2f}%)\")\n    print(f\"   Trades: {len(df_trades)}\")\n\nprint(\"\\n\" + \"=\" * 80)\nprint(\"✅ Tous les backtests terminés\\n\")"
  },
  {
   "cell_type": "markdown",
   "metadata": {},
   "source": [
    "## 4️⃣ Comparaison et recommandation"
   ]
  },
  {
   "cell_type": "code",
   "execution_count": null,
   "metadata": {},
   "outputs": [],
   "source": [
    "# Générer le rapport comparatif\n",
    "comparator.print_summary()"
   ]
  },
  {
   "cell_type": "code",
   "execution_count": null,
   "metadata": {},
   "outputs": [],
   "source": [
    "# Voir le classement par métrique spécifique\n",
    "print(\"\\n📊 Top stratégies par Sharpe Ratio:\")\n",
    "print(comparator.rank('Sharpe Ratio')[['Strategy', 'Sharpe Ratio', 'Total Perf (%)', 'Max DD (%)']].head())"
   ]
  },
  {
   "cell_type": "code",
   "execution_count": null,
   "metadata": {},
   "outputs": [],
   "source": [
    "# Voir le score composite (pondéré)\n",
    "print(\"\\n🏆 Scores composites (pondération automatique):\")\n",
    "scored = comparator.score()\n",
    "print(scored[['Strategy', 'Score', 'Total Perf (%)', 'Sharpe Ratio', 'Max DD (%)']].head())"
   ]
  },
  {
   "cell_type": "code",
   "execution_count": null,
   "metadata": {},
   "outputs": [],
   "source": [
    "# Sauvegarder les résultats\n",
    "output_path = \"backtest_comparison_results.csv\"\n",
    "comparator.save_comparison(output_path)\n",
    "print(f\"\\n💾 Résultats complets sauvegardés: {output_path}\")"
   ]
  },
  {
   "cell_type": "markdown",
   "metadata": {},
   "source": [
    "## 5️⃣ Analyse détaillée (optionnel)"
   ]
  },
  {
   "cell_type": "code",
   "execution_count": null,
   "metadata": {},
   "outputs": [],
   "source": [
    "# Visualiser l'évolution du wallet pour chaque stratégie\n",
    "import matplotlib.pyplot as plt\n",
    "\n",
    "plt.figure(figsize=(14, 6))\n",
    "\n",
    "for bt in comparator.backtests:\n",
    "    df_days = bt.df_days.copy()\n",
    "    if len(df_days) > 0:\n",
    "        df_days['date'] = pd.to_datetime(df_days['day'])\n",
    "        plt.plot(df_days['date'], df_days['wallet'], label=bt.name, linewidth=2)\n",
    "\n",
    "plt.axhline(y=1000, color='gray', linestyle='--', alpha=0.5, label='Initial Wallet')\n",
    "plt.xlabel('Date')\n",
    "plt.ylabel('Wallet ($)')\n",
    "plt.title('Comparaison de l\\'évolution du wallet')\n",
    "plt.legend()\n",
    "plt.grid(alpha=0.3)\n",
    "plt.tight_layout()\n",
    "plt.show()"
   ]
  },
  {
   "cell_type": "markdown",
   "metadata": {},
   "source": [
    "## 🎯 Conclusion\n",
    "\n",
    "- Le tableau comparatif montre toutes les métriques clés\n",
    "- La recommandation est basée sur un score composite pondéré\n",
    "- Vous pouvez facilement ajouter de nouvelles stratégies dans la section 2️⃣\n",
    "- Les résultats sont automatiquement sauvegardés en CSV\n",
    "\n",
    "**Next steps:**\n",
    "1. Ajuster les pondérations du score selon vos priorités\n",
    "2. Tester sur différentes périodes\n",
    "3. Créer des adaptateurs custom avec votre propre logique"
   ]
  }
 ],
 "metadata": {
  "kernelspec": {
   "display_name": "Python 3",
   "language": "python",
   "name": "python3"
  },
  "language_info": {
   "codemirror_mode": {
    "name": "ipython",
    "version": 3
   },
   "file_extension": ".py",
   "mimetype": "text/x-python",
   "name": "python",
   "nbconvert_exporter": "python",
   "pygments_lexer": "ipython3",
   "version": "3.13.7"
  }
 },
 "nbformat": 4,
 "nbformat_minor": 4
}